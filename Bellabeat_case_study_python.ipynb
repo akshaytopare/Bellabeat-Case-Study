{
 "cells": [
  {
   "cell_type": "markdown",
   "id": "4ddb59e7",
   "metadata": {},
   "source": [
    "**Introduction**"
   ]
  },
  {
   "cell_type": "markdown",
   "id": "dd98f1cc",
   "metadata": {},
   "source": [
    "Urška Sršen and Sando Mur founded Bellabeat, a high-tech company that manufactures health-focused smart products. Sršen used her background as an artist to develop beautifully designed technology that informs and inspires women around the world. Collecting data on activity, sleep, stress, and reproductive health has allowed Bellabeat to empower women with knowledge about their own health and habits. Since it was founded in 2013, Bellabeat has grown rapidly and quickly positioned itself as a tech-driven wellness company for women."
   ]
  },
  {
   "cell_type": "markdown",
   "id": "3a9ad02f",
   "metadata": {},
   "source": [
    "**Business Task**"
   ]
  },
  {
   "cell_type": "markdown",
   "id": "814a7e98",
   "metadata": {},
   "source": [
    "Analyzing smart device fitness data could help unlock new growth opportunities for the company. Focusing on one of the Bellabeat’s products and analyze smart device data to gain insight into how consumers are using their smart devices. The insights we discover will then help guide marketing strategy for the company."
   ]
  },
  {
   "cell_type": "markdown",
   "id": "198017fe",
   "metadata": {},
   "source": [
    "**Stakeholders**"
   ]
  },
  {
   "cell_type": "markdown",
   "id": "46bc236c",
   "metadata": {},
   "source": [
    "* Primary\n",
    "1. Urška Sršen, cofounder and Chief Creative Officer\n",
    "2. Sando Mur, cofounder\n",
    "* Secondary\n",
    "1. Bellabeat marketing analytics team"
   ]
  },
  {
   "cell_type": "markdown",
   "id": "26484bcc",
   "metadata": {},
   "source": [
    "**Data Source**"
   ]
  },
  {
   "cell_type": "markdown",
   "id": "dd84381d",
   "metadata": {},
   "source": [
    "FitBit Fitness Tracker Data https://www.kaggle.com/arashnic/fitbit (CC0: Public Domain, dataset made available through Mobius): This Kaggle data set contains personal fitness tracker from thirty fitbit users. Thirty eligible Fitbit users consented to the submission of personal tracker data, including minute-level output for physical activity, heart rate, and sleep monitoring. It includes information about daily activity, steps, and heart rate that can be used to explore users’ habits."
   ]
  },
  {
   "cell_type": "markdown",
   "id": "3fc9d7f6",
   "metadata": {},
   "source": [
    "**Installing and loading common packages and libraries**"
   ]
  },
  {
   "cell_type": "code",
   "execution_count": 51,
   "id": "852e2c5d",
   "metadata": {},
   "outputs": [],
   "source": [
    "import pandas as pd  # for dataframe\n",
    "import numpy as np\n",
    "import matplotlib.pyplot as plt  # for plots\n",
    "import seaborn as sns\n",
    "%matplotlib inline\n",
    "import os"
   ]
  },
  {
   "cell_type": "code",
   "execution_count": 52,
   "id": "4a80f901",
   "metadata": {},
   "outputs": [
    {
     "name": "stdout",
     "output_type": "stream",
     "text": [
      "Requirement already satisfied: pandasql in c:\\users\\akshayt\\anaconda3\\lib\\site-packages (0.7.3)\n",
      "Requirement already satisfied: pandas in c:\\users\\akshayt\\anaconda3\\lib\\site-packages (from pandasql) (1.3.2)\n",
      "Requirement already satisfied: sqlalchemy in c:\\users\\akshayt\\anaconda3\\lib\\site-packages (from pandasql) (1.4.22)\n",
      "Requirement already satisfied: numpy in c:\\users\\akshayt\\anaconda3\\lib\\site-packages (from pandasql) (1.20.3)\n",
      "Requirement already satisfied: pytz>=2017.3 in c:\\users\\akshayt\\anaconda3\\lib\\site-packages (from pandas->pandasql) (2021.1)\n",
      "Requirement already satisfied: python-dateutil>=2.7.3 in c:\\users\\akshayt\\anaconda3\\lib\\site-packages (from pandas->pandasql) (2.8.2)\n",
      "Requirement already satisfied: six>=1.5 in c:\\users\\akshayt\\anaconda3\\lib\\site-packages (from python-dateutil>=2.7.3->pandas->pandasql) (1.16.0)\n",
      "Requirement already satisfied: greenlet!=0.4.17 in c:\\users\\akshayt\\anaconda3\\lib\\site-packages (from sqlalchemy->pandasql) (1.1.1)\n",
      "Note: you may need to restart the kernel to use updated packages.\n"
     ]
    }
   ],
   "source": [
    "pip install -U pandasql"
   ]
  },
  {
   "cell_type": "code",
   "execution_count": 53,
   "id": "f42c6a4a",
   "metadata": {},
   "outputs": [],
   "source": [
    "from pandasql import sqldf  # for performing queries on dataframe"
   ]
  },
  {
   "cell_type": "code",
   "execution_count": 54,
   "id": "c7e0a8cc",
   "metadata": {},
   "outputs": [],
   "source": [
    "mysql = lambda q: sqldf(q, globals())"
   ]
  },
  {
   "cell_type": "markdown",
   "id": "f2a4292e",
   "metadata": {},
   "source": [
    "**STEP 1: COLLECT DATA**"
   ]
  },
  {
   "cell_type": "markdown",
   "id": "48020110",
   "metadata": {},
   "source": [
    "Loading the CSV files"
   ]
  },
  {
   "cell_type": "markdown",
   "id": "5776ebee",
   "metadata": {},
   "source": [
    "Here we’ll create a dataframe named ‘daily_activity’ and read in one of the CSV files from the dataset. We’ll create another dataframes for the sleep data, daily steps and daily calories"
   ]
  },
  {
   "cell_type": "code",
   "execution_count": 55,
   "id": "9e575e38",
   "metadata": {},
   "outputs": [],
   "source": [
    "os.chdir(\"C:\\\\Users\\\\AkshayT\\\\Desktop\\\\Google\\\\Bellabeat_case_study_python\")"
   ]
  },
  {
   "cell_type": "code",
   "execution_count": 56,
   "id": "dd70f5c0",
   "metadata": {},
   "outputs": [],
   "source": [
    "daily_activity = pd.read_csv(\"dailyActivity_merged.csv\")\n",
    "sleep_day = pd.read_csv(\"sleepDay_merged.csv\")\n",
    "daily_steps = pd.read_csv(\"dailySteps_merged.csv\")\n",
    "daily_calories = pd.read_csv(\"dailyCalories_merged.csv\")"
   ]
  },
  {
   "cell_type": "markdown",
   "id": "fdb69381",
   "metadata": {},
   "source": [
    "Take a look at the"
   ]
  },
  {
   "cell_type": "code",
   "execution_count": 57,
   "id": "c37e4b30",
   "metadata": {},
   "outputs": [
    {
     "data": {
      "text/html": [
       "<div>\n",
       "<style scoped>\n",
       "    .dataframe tbody tr th:only-of-type {\n",
       "        vertical-align: middle;\n",
       "    }\n",
       "\n",
       "    .dataframe tbody tr th {\n",
       "        vertical-align: top;\n",
       "    }\n",
       "\n",
       "    .dataframe thead th {\n",
       "        text-align: right;\n",
       "    }\n",
       "</style>\n",
       "<table border=\"1\" class=\"dataframe\">\n",
       "  <thead>\n",
       "    <tr style=\"text-align: right;\">\n",
       "      <th></th>\n",
       "      <th>Id</th>\n",
       "      <th>ActivityDate</th>\n",
       "      <th>TotalSteps</th>\n",
       "      <th>TotalDistance</th>\n",
       "      <th>TrackerDistance</th>\n",
       "      <th>LoggedActivitiesDistance</th>\n",
       "      <th>VeryActiveDistance</th>\n",
       "      <th>ModeratelyActiveDistance</th>\n",
       "      <th>LightActiveDistance</th>\n",
       "      <th>SedentaryActiveDistance</th>\n",
       "      <th>VeryActiveMinutes</th>\n",
       "      <th>FairlyActiveMinutes</th>\n",
       "      <th>LightlyActiveMinutes</th>\n",
       "      <th>SedentaryMinutes</th>\n",
       "      <th>Calories</th>\n",
       "    </tr>\n",
       "  </thead>\n",
       "  <tbody>\n",
       "    <tr>\n",
       "      <th>0</th>\n",
       "      <td>1503960366</td>\n",
       "      <td>4/12/2016</td>\n",
       "      <td>13162</td>\n",
       "      <td>8.50</td>\n",
       "      <td>8.50</td>\n",
       "      <td>0.0</td>\n",
       "      <td>1.88</td>\n",
       "      <td>0.55</td>\n",
       "      <td>6.06</td>\n",
       "      <td>0.0</td>\n",
       "      <td>25</td>\n",
       "      <td>13</td>\n",
       "      <td>328</td>\n",
       "      <td>728</td>\n",
       "      <td>1985</td>\n",
       "    </tr>\n",
       "    <tr>\n",
       "      <th>1</th>\n",
       "      <td>1503960366</td>\n",
       "      <td>4/13/2016</td>\n",
       "      <td>10735</td>\n",
       "      <td>6.97</td>\n",
       "      <td>6.97</td>\n",
       "      <td>0.0</td>\n",
       "      <td>1.57</td>\n",
       "      <td>0.69</td>\n",
       "      <td>4.71</td>\n",
       "      <td>0.0</td>\n",
       "      <td>21</td>\n",
       "      <td>19</td>\n",
       "      <td>217</td>\n",
       "      <td>776</td>\n",
       "      <td>1797</td>\n",
       "    </tr>\n",
       "    <tr>\n",
       "      <th>2</th>\n",
       "      <td>1503960366</td>\n",
       "      <td>4/14/2016</td>\n",
       "      <td>10460</td>\n",
       "      <td>6.74</td>\n",
       "      <td>6.74</td>\n",
       "      <td>0.0</td>\n",
       "      <td>2.44</td>\n",
       "      <td>0.40</td>\n",
       "      <td>3.91</td>\n",
       "      <td>0.0</td>\n",
       "      <td>30</td>\n",
       "      <td>11</td>\n",
       "      <td>181</td>\n",
       "      <td>1218</td>\n",
       "      <td>1776</td>\n",
       "    </tr>\n",
       "    <tr>\n",
       "      <th>3</th>\n",
       "      <td>1503960366</td>\n",
       "      <td>4/15/2016</td>\n",
       "      <td>9762</td>\n",
       "      <td>6.28</td>\n",
       "      <td>6.28</td>\n",
       "      <td>0.0</td>\n",
       "      <td>2.14</td>\n",
       "      <td>1.26</td>\n",
       "      <td>2.83</td>\n",
       "      <td>0.0</td>\n",
       "      <td>29</td>\n",
       "      <td>34</td>\n",
       "      <td>209</td>\n",
       "      <td>726</td>\n",
       "      <td>1745</td>\n",
       "    </tr>\n",
       "    <tr>\n",
       "      <th>4</th>\n",
       "      <td>1503960366</td>\n",
       "      <td>4/16/2016</td>\n",
       "      <td>12669</td>\n",
       "      <td>8.16</td>\n",
       "      <td>8.16</td>\n",
       "      <td>0.0</td>\n",
       "      <td>2.71</td>\n",
       "      <td>0.41</td>\n",
       "      <td>5.04</td>\n",
       "      <td>0.0</td>\n",
       "      <td>36</td>\n",
       "      <td>10</td>\n",
       "      <td>221</td>\n",
       "      <td>773</td>\n",
       "      <td>1863</td>\n",
       "    </tr>\n",
       "  </tbody>\n",
       "</table>\n",
       "</div>"
      ],
      "text/plain": [
       "           Id ActivityDate  TotalSteps  TotalDistance  TrackerDistance  \\\n",
       "0  1503960366    4/12/2016       13162           8.50             8.50   \n",
       "1  1503960366    4/13/2016       10735           6.97             6.97   \n",
       "2  1503960366    4/14/2016       10460           6.74             6.74   \n",
       "3  1503960366    4/15/2016        9762           6.28             6.28   \n",
       "4  1503960366    4/16/2016       12669           8.16             8.16   \n",
       "\n",
       "   LoggedActivitiesDistance  VeryActiveDistance  ModeratelyActiveDistance  \\\n",
       "0                       0.0                1.88                      0.55   \n",
       "1                       0.0                1.57                      0.69   \n",
       "2                       0.0                2.44                      0.40   \n",
       "3                       0.0                2.14                      1.26   \n",
       "4                       0.0                2.71                      0.41   \n",
       "\n",
       "   LightActiveDistance  SedentaryActiveDistance  VeryActiveMinutes  \\\n",
       "0                 6.06                      0.0                 25   \n",
       "1                 4.71                      0.0                 21   \n",
       "2                 3.91                      0.0                 30   \n",
       "3                 2.83                      0.0                 29   \n",
       "4                 5.04                      0.0                 36   \n",
       "\n",
       "   FairlyActiveMinutes  LightlyActiveMinutes  SedentaryMinutes  Calories  \n",
       "0                   13                   328               728      1985  \n",
       "1                   19                   217               776      1797  \n",
       "2                   11                   181              1218      1776  \n",
       "3                   34                   209               726      1745  \n",
       "4                   10                   221               773      1863  "
      ]
     },
     "execution_count": 57,
     "metadata": {},
     "output_type": "execute_result"
    }
   ],
   "source": [
    "daily_activity.head()"
   ]
  },
  {
   "cell_type": "code",
   "execution_count": 58,
   "id": "043fc2af",
   "metadata": {},
   "outputs": [
    {
     "data": {
      "text/html": [
       "<div>\n",
       "<style scoped>\n",
       "    .dataframe tbody tr th:only-of-type {\n",
       "        vertical-align: middle;\n",
       "    }\n",
       "\n",
       "    .dataframe tbody tr th {\n",
       "        vertical-align: top;\n",
       "    }\n",
       "\n",
       "    .dataframe thead th {\n",
       "        text-align: right;\n",
       "    }\n",
       "</style>\n",
       "<table border=\"1\" class=\"dataframe\">\n",
       "  <thead>\n",
       "    <tr style=\"text-align: right;\">\n",
       "      <th></th>\n",
       "      <th>Id</th>\n",
       "      <th>SleepDay</th>\n",
       "      <th>TotalSleepRecords</th>\n",
       "      <th>TotalMinutesAsleep</th>\n",
       "      <th>TotalTimeInBed</th>\n",
       "    </tr>\n",
       "  </thead>\n",
       "  <tbody>\n",
       "    <tr>\n",
       "      <th>0</th>\n",
       "      <td>1503960366</td>\n",
       "      <td>4/12/2016 12:00:00 AM</td>\n",
       "      <td>1</td>\n",
       "      <td>327</td>\n",
       "      <td>346</td>\n",
       "    </tr>\n",
       "    <tr>\n",
       "      <th>1</th>\n",
       "      <td>1503960366</td>\n",
       "      <td>4/13/2016 12:00:00 AM</td>\n",
       "      <td>2</td>\n",
       "      <td>384</td>\n",
       "      <td>407</td>\n",
       "    </tr>\n",
       "    <tr>\n",
       "      <th>2</th>\n",
       "      <td>1503960366</td>\n",
       "      <td>4/15/2016 12:00:00 AM</td>\n",
       "      <td>1</td>\n",
       "      <td>412</td>\n",
       "      <td>442</td>\n",
       "    </tr>\n",
       "    <tr>\n",
       "      <th>3</th>\n",
       "      <td>1503960366</td>\n",
       "      <td>4/16/2016 12:00:00 AM</td>\n",
       "      <td>2</td>\n",
       "      <td>340</td>\n",
       "      <td>367</td>\n",
       "    </tr>\n",
       "    <tr>\n",
       "      <th>4</th>\n",
       "      <td>1503960366</td>\n",
       "      <td>4/17/2016 12:00:00 AM</td>\n",
       "      <td>1</td>\n",
       "      <td>700</td>\n",
       "      <td>712</td>\n",
       "    </tr>\n",
       "  </tbody>\n",
       "</table>\n",
       "</div>"
      ],
      "text/plain": [
       "           Id               SleepDay  TotalSleepRecords  TotalMinutesAsleep  \\\n",
       "0  1503960366  4/12/2016 12:00:00 AM                  1                 327   \n",
       "1  1503960366  4/13/2016 12:00:00 AM                  2                 384   \n",
       "2  1503960366  4/15/2016 12:00:00 AM                  1                 412   \n",
       "3  1503960366  4/16/2016 12:00:00 AM                  2                 340   \n",
       "4  1503960366  4/17/2016 12:00:00 AM                  1                 700   \n",
       "\n",
       "   TotalTimeInBed  \n",
       "0             346  \n",
       "1             407  \n",
       "2             442  \n",
       "3             367  \n",
       "4             712  "
      ]
     },
     "execution_count": 58,
     "metadata": {},
     "output_type": "execute_result"
    }
   ],
   "source": [
    "sleep_day.head()"
   ]
  },
  {
   "cell_type": "code",
   "execution_count": 59,
   "id": "f586a5a1",
   "metadata": {},
   "outputs": [
    {
     "data": {
      "text/html": [
       "<div>\n",
       "<style scoped>\n",
       "    .dataframe tbody tr th:only-of-type {\n",
       "        vertical-align: middle;\n",
       "    }\n",
       "\n",
       "    .dataframe tbody tr th {\n",
       "        vertical-align: top;\n",
       "    }\n",
       "\n",
       "    .dataframe thead th {\n",
       "        text-align: right;\n",
       "    }\n",
       "</style>\n",
       "<table border=\"1\" class=\"dataframe\">\n",
       "  <thead>\n",
       "    <tr style=\"text-align: right;\">\n",
       "      <th></th>\n",
       "      <th>Id</th>\n",
       "      <th>ActivityDay</th>\n",
       "      <th>StepTotal</th>\n",
       "    </tr>\n",
       "  </thead>\n",
       "  <tbody>\n",
       "    <tr>\n",
       "      <th>0</th>\n",
       "      <td>1503960366</td>\n",
       "      <td>4/12/2016</td>\n",
       "      <td>13162</td>\n",
       "    </tr>\n",
       "    <tr>\n",
       "      <th>1</th>\n",
       "      <td>1503960366</td>\n",
       "      <td>4/13/2016</td>\n",
       "      <td>10735</td>\n",
       "    </tr>\n",
       "    <tr>\n",
       "      <th>2</th>\n",
       "      <td>1503960366</td>\n",
       "      <td>4/14/2016</td>\n",
       "      <td>10460</td>\n",
       "    </tr>\n",
       "    <tr>\n",
       "      <th>3</th>\n",
       "      <td>1503960366</td>\n",
       "      <td>4/15/2016</td>\n",
       "      <td>9762</td>\n",
       "    </tr>\n",
       "    <tr>\n",
       "      <th>4</th>\n",
       "      <td>1503960366</td>\n",
       "      <td>4/16/2016</td>\n",
       "      <td>12669</td>\n",
       "    </tr>\n",
       "  </tbody>\n",
       "</table>\n",
       "</div>"
      ],
      "text/plain": [
       "           Id ActivityDay  StepTotal\n",
       "0  1503960366   4/12/2016      13162\n",
       "1  1503960366   4/13/2016      10735\n",
       "2  1503960366   4/14/2016      10460\n",
       "3  1503960366   4/15/2016       9762\n",
       "4  1503960366   4/16/2016      12669"
      ]
     },
     "execution_count": 59,
     "metadata": {},
     "output_type": "execute_result"
    }
   ],
   "source": [
    "daily_steps.head()"
   ]
  },
  {
   "cell_type": "code",
   "execution_count": 60,
   "id": "610301f6",
   "metadata": {},
   "outputs": [
    {
     "data": {
      "text/html": [
       "<div>\n",
       "<style scoped>\n",
       "    .dataframe tbody tr th:only-of-type {\n",
       "        vertical-align: middle;\n",
       "    }\n",
       "\n",
       "    .dataframe tbody tr th {\n",
       "        vertical-align: top;\n",
       "    }\n",
       "\n",
       "    .dataframe thead th {\n",
       "        text-align: right;\n",
       "    }\n",
       "</style>\n",
       "<table border=\"1\" class=\"dataframe\">\n",
       "  <thead>\n",
       "    <tr style=\"text-align: right;\">\n",
       "      <th></th>\n",
       "      <th>Id</th>\n",
       "      <th>ActivityDay</th>\n",
       "      <th>Calories</th>\n",
       "    </tr>\n",
       "  </thead>\n",
       "  <tbody>\n",
       "    <tr>\n",
       "      <th>0</th>\n",
       "      <td>1503960366</td>\n",
       "      <td>4/12/2016</td>\n",
       "      <td>1985</td>\n",
       "    </tr>\n",
       "    <tr>\n",
       "      <th>1</th>\n",
       "      <td>1503960366</td>\n",
       "      <td>4/13/2016</td>\n",
       "      <td>1797</td>\n",
       "    </tr>\n",
       "    <tr>\n",
       "      <th>2</th>\n",
       "      <td>1503960366</td>\n",
       "      <td>4/14/2016</td>\n",
       "      <td>1776</td>\n",
       "    </tr>\n",
       "    <tr>\n",
       "      <th>3</th>\n",
       "      <td>1503960366</td>\n",
       "      <td>4/15/2016</td>\n",
       "      <td>1745</td>\n",
       "    </tr>\n",
       "    <tr>\n",
       "      <th>4</th>\n",
       "      <td>1503960366</td>\n",
       "      <td>4/16/2016</td>\n",
       "      <td>1863</td>\n",
       "    </tr>\n",
       "  </tbody>\n",
       "</table>\n",
       "</div>"
      ],
      "text/plain": [
       "           Id ActivityDay  Calories\n",
       "0  1503960366   4/12/2016      1985\n",
       "1  1503960366   4/13/2016      1797\n",
       "2  1503960366   4/14/2016      1776\n",
       "3  1503960366   4/15/2016      1745\n",
       "4  1503960366   4/16/2016      1863"
      ]
     },
     "execution_count": 60,
     "metadata": {},
     "output_type": "execute_result"
    }
   ],
   "source": [
    "daily_calories.head()"
   ]
  },
  {
   "cell_type": "markdown",
   "id": "cd3e865b",
   "metadata": {},
   "source": [
    "Identify all the columns in the daily_activity, sleep_day, daily_calories and daily_steps data."
   ]
  },
  {
   "cell_type": "code",
   "execution_count": 61,
   "id": "aecc49d2",
   "metadata": {},
   "outputs": [
    {
     "data": {
      "text/plain": [
       "Index(['Id', 'ActivityDate', 'TotalSteps', 'TotalDistance', 'TrackerDistance',\n",
       "       'LoggedActivitiesDistance', 'VeryActiveDistance',\n",
       "       'ModeratelyActiveDistance', 'LightActiveDistance',\n",
       "       'SedentaryActiveDistance', 'VeryActiveMinutes', 'FairlyActiveMinutes',\n",
       "       'LightlyActiveMinutes', 'SedentaryMinutes', 'Calories'],\n",
       "      dtype='object')"
      ]
     },
     "execution_count": 61,
     "metadata": {},
     "output_type": "execute_result"
    }
   ],
   "source": [
    "daily_activity.columns"
   ]
  },
  {
   "cell_type": "code",
   "execution_count": 62,
   "id": "4d7019c0",
   "metadata": {},
   "outputs": [
    {
     "data": {
      "text/plain": [
       "Index(['Id', 'SleepDay', 'TotalSleepRecords', 'TotalMinutesAsleep',\n",
       "       'TotalTimeInBed'],\n",
       "      dtype='object')"
      ]
     },
     "execution_count": 62,
     "metadata": {},
     "output_type": "execute_result"
    }
   ],
   "source": [
    "sleep_day.columns"
   ]
  },
  {
   "cell_type": "code",
   "execution_count": 63,
   "id": "d7565e03",
   "metadata": {},
   "outputs": [
    {
     "data": {
      "text/plain": [
       "Index(['Id', 'ActivityDay', 'StepTotal'], dtype='object')"
      ]
     },
     "execution_count": 63,
     "metadata": {},
     "output_type": "execute_result"
    }
   ],
   "source": [
    "daily_steps.columns"
   ]
  },
  {
   "cell_type": "code",
   "execution_count": 64,
   "id": "626cd292",
   "metadata": {},
   "outputs": [
    {
     "data": {
      "text/plain": [
       "Index(['Id', 'ActivityDay', 'Calories'], dtype='object')"
      ]
     },
     "execution_count": 64,
     "metadata": {},
     "output_type": "execute_result"
    }
   ],
   "source": [
    "daily_calories.columns"
   ]
  },
  {
   "cell_type": "markdown",
   "id": "517a2ab0",
   "metadata": {},
   "source": [
    "**STEP 2: CLEAN UP AND ADD DATA TO PREPARE FOR ANALYSIS**"
   ]
  },
  {
   "cell_type": "code",
   "execution_count": 65,
   "id": "a2a87975",
   "metadata": {},
   "outputs": [
    {
     "name": "stdout",
     "output_type": "stream",
     "text": [
      "<class 'pandas.core.frame.DataFrame'>\n",
      "RangeIndex: 940 entries, 0 to 939\n",
      "Data columns (total 15 columns):\n",
      " #   Column                    Non-Null Count  Dtype  \n",
      "---  ------                    --------------  -----  \n",
      " 0   Id                        940 non-null    int64  \n",
      " 1   ActivityDate              940 non-null    object \n",
      " 2   TotalSteps                940 non-null    int64  \n",
      " 3   TotalDistance             940 non-null    float64\n",
      " 4   TrackerDistance           940 non-null    float64\n",
      " 5   LoggedActivitiesDistance  940 non-null    float64\n",
      " 6   VeryActiveDistance        940 non-null    float64\n",
      " 7   ModeratelyActiveDistance  940 non-null    float64\n",
      " 8   LightActiveDistance       940 non-null    float64\n",
      " 9   SedentaryActiveDistance   940 non-null    float64\n",
      " 10  VeryActiveMinutes         940 non-null    int64  \n",
      " 11  FairlyActiveMinutes       940 non-null    int64  \n",
      " 12  LightlyActiveMinutes      940 non-null    int64  \n",
      " 13  SedentaryMinutes          940 non-null    int64  \n",
      " 14  Calories                  940 non-null    int64  \n",
      "dtypes: float64(7), int64(7), object(1)\n",
      "memory usage: 110.3+ KB\n"
     ]
    }
   ],
   "source": [
    "daily_activity.info()"
   ]
  },
  {
   "cell_type": "code",
   "execution_count": 66,
   "id": "f5c5b23a",
   "metadata": {},
   "outputs": [
    {
     "name": "stdout",
     "output_type": "stream",
     "text": [
      "<class 'pandas.core.frame.DataFrame'>\n",
      "RangeIndex: 413 entries, 0 to 412\n",
      "Data columns (total 5 columns):\n",
      " #   Column              Non-Null Count  Dtype \n",
      "---  ------              --------------  ----- \n",
      " 0   Id                  413 non-null    int64 \n",
      " 1   SleepDay            413 non-null    object\n",
      " 2   TotalSleepRecords   413 non-null    int64 \n",
      " 3   TotalMinutesAsleep  413 non-null    int64 \n",
      " 4   TotalTimeInBed      413 non-null    int64 \n",
      "dtypes: int64(4), object(1)\n",
      "memory usage: 16.3+ KB\n"
     ]
    }
   ],
   "source": [
    "sleep_day.info()"
   ]
  },
  {
   "cell_type": "markdown",
   "id": "20935071",
   "metadata": {},
   "source": [
    "daily_steps.info()"
   ]
  },
  {
   "cell_type": "code",
   "execution_count": 67,
   "id": "6caff34b",
   "metadata": {},
   "outputs": [
    {
     "name": "stdout",
     "output_type": "stream",
     "text": [
      "<class 'pandas.core.frame.DataFrame'>\n",
      "RangeIndex: 940 entries, 0 to 939\n",
      "Data columns (total 3 columns):\n",
      " #   Column       Non-Null Count  Dtype \n",
      "---  ------       --------------  ----- \n",
      " 0   Id           940 non-null    int64 \n",
      " 1   ActivityDay  940 non-null    object\n",
      " 2   Calories     940 non-null    int64 \n",
      "dtypes: int64(2), object(1)\n",
      "memory usage: 22.2+ KB\n"
     ]
    }
   ],
   "source": [
    "daily_calories.info()"
   ]
  },
  {
   "cell_type": "markdown",
   "id": "3eb6221a",
   "metadata": {},
   "source": [
    "**Convert columns into appropriate data types**"
   ]
  },
  {
   "cell_type": "markdown",
   "id": "c8072da6",
   "metadata": {},
   "source": [
    "As we have noticed ActivityDate column in daily_activity is in character data type, let’s convert it into date similarly SleepDay column in sleep_day and ActivityDay column in both daily_calories and daily_steps"
   ]
  },
  {
   "cell_type": "code",
   "execution_count": 68,
   "id": "6b38f273",
   "metadata": {},
   "outputs": [],
   "source": [
    "daily_activity.ActivityDate = pd.to_datetime(daily_activity.ActivityDate, format='%m/%d/%Y')"
   ]
  },
  {
   "cell_type": "code",
   "execution_count": 69,
   "id": "477182d1",
   "metadata": {},
   "outputs": [],
   "source": [
    "sleep_day.SleepDay = pd.to_datetime(sleep_day.SleepDay, format='%m/%d/%Y %H:%M:%S %p').dt.date"
   ]
  },
  {
   "cell_type": "code",
   "execution_count": 70,
   "id": "95b71302",
   "metadata": {},
   "outputs": [],
   "source": [
    "sleep_day.SleepDay = sleep_day.SleepDay.astype('datetime64[ns]')"
   ]
  },
  {
   "cell_type": "code",
   "execution_count": 71,
   "id": "a2b79d19",
   "metadata": {},
   "outputs": [],
   "source": [
    "daily_steps.ActivityDay = pd.to_datetime(daily_steps.ActivityDay, format='%m/%d/%Y')"
   ]
  },
  {
   "cell_type": "code",
   "execution_count": 72,
   "id": "9347c43e",
   "metadata": {},
   "outputs": [],
   "source": [
    "daily_calories.ActivityDay = pd.to_datetime(daily_calories.ActivityDay, format='%m/%d/%Y')"
   ]
  },
  {
   "cell_type": "markdown",
   "id": "c360ea76",
   "metadata": {},
   "source": [
    "Let’s Check the data"
   ]
  },
  {
   "cell_type": "code",
   "execution_count": 73,
   "id": "1fd4cb78",
   "metadata": {},
   "outputs": [
    {
     "name": "stdout",
     "output_type": "stream",
     "text": [
      "<class 'pandas.core.frame.DataFrame'>\n",
      "RangeIndex: 940 entries, 0 to 939\n",
      "Data columns (total 15 columns):\n",
      " #   Column                    Non-Null Count  Dtype         \n",
      "---  ------                    --------------  -----         \n",
      " 0   Id                        940 non-null    int64         \n",
      " 1   ActivityDate              940 non-null    datetime64[ns]\n",
      " 2   TotalSteps                940 non-null    int64         \n",
      " 3   TotalDistance             940 non-null    float64       \n",
      " 4   TrackerDistance           940 non-null    float64       \n",
      " 5   LoggedActivitiesDistance  940 non-null    float64       \n",
      " 6   VeryActiveDistance        940 non-null    float64       \n",
      " 7   ModeratelyActiveDistance  940 non-null    float64       \n",
      " 8   LightActiveDistance       940 non-null    float64       \n",
      " 9   SedentaryActiveDistance   940 non-null    float64       \n",
      " 10  VeryActiveMinutes         940 non-null    int64         \n",
      " 11  FairlyActiveMinutes       940 non-null    int64         \n",
      " 12  LightlyActiveMinutes      940 non-null    int64         \n",
      " 13  SedentaryMinutes          940 non-null    int64         \n",
      " 14  Calories                  940 non-null    int64         \n",
      "dtypes: datetime64[ns](1), float64(7), int64(7)\n",
      "memory usage: 110.3 KB\n"
     ]
    }
   ],
   "source": [
    "daily_activity.info()"
   ]
  },
  {
   "cell_type": "code",
   "execution_count": 74,
   "id": "c8b5ac97",
   "metadata": {},
   "outputs": [
    {
     "name": "stdout",
     "output_type": "stream",
     "text": [
      "<class 'pandas.core.frame.DataFrame'>\n",
      "RangeIndex: 413 entries, 0 to 412\n",
      "Data columns (total 5 columns):\n",
      " #   Column              Non-Null Count  Dtype         \n",
      "---  ------              --------------  -----         \n",
      " 0   Id                  413 non-null    int64         \n",
      " 1   SleepDay            413 non-null    datetime64[ns]\n",
      " 2   TotalSleepRecords   413 non-null    int64         \n",
      " 3   TotalMinutesAsleep  413 non-null    int64         \n",
      " 4   TotalTimeInBed      413 non-null    int64         \n",
      "dtypes: datetime64[ns](1), int64(4)\n",
      "memory usage: 16.3 KB\n"
     ]
    }
   ],
   "source": [
    "sleep_day.info()"
   ]
  },
  {
   "cell_type": "code",
   "execution_count": 75,
   "id": "2ff5a534",
   "metadata": {},
   "outputs": [
    {
     "name": "stdout",
     "output_type": "stream",
     "text": [
      "<class 'pandas.core.frame.DataFrame'>\n",
      "RangeIndex: 940 entries, 0 to 939\n",
      "Data columns (total 3 columns):\n",
      " #   Column       Non-Null Count  Dtype         \n",
      "---  ------       --------------  -----         \n",
      " 0   Id           940 non-null    int64         \n",
      " 1   ActivityDay  940 non-null    datetime64[ns]\n",
      " 2   StepTotal    940 non-null    int64         \n",
      "dtypes: datetime64[ns](1), int64(2)\n",
      "memory usage: 22.2 KB\n"
     ]
    }
   ],
   "source": [
    "daily_steps.info()"
   ]
  },
  {
   "cell_type": "code",
   "execution_count": 76,
   "id": "ae868ceb",
   "metadata": {},
   "outputs": [
    {
     "name": "stdout",
     "output_type": "stream",
     "text": [
      "<class 'pandas.core.frame.DataFrame'>\n",
      "RangeIndex: 940 entries, 0 to 939\n",
      "Data columns (total 3 columns):\n",
      " #   Column       Non-Null Count  Dtype         \n",
      "---  ------       --------------  -----         \n",
      " 0   Id           940 non-null    int64         \n",
      " 1   ActivityDay  940 non-null    datetime64[ns]\n",
      " 2   Calories     940 non-null    int64         \n",
      "dtypes: datetime64[ns](1), int64(2)\n",
      "memory usage: 22.2 KB\n"
     ]
    }
   ],
   "source": [
    "daily_calories.info()"
   ]
  },
  {
   "cell_type": "markdown",
   "id": "ebd1d095",
   "metadata": {},
   "source": [
    "Let’s convert Id column in each dataframe into character as we are not going to do any calculations on Id"
   ]
  },
  {
   "cell_type": "code",
   "execution_count": 77,
   "id": "fa1ba7c9",
   "metadata": {},
   "outputs": [],
   "source": [
    "daily_activity.Id = daily_activity.Id.astype('str')"
   ]
  },
  {
   "cell_type": "code",
   "execution_count": 78,
   "id": "aa12406f",
   "metadata": {},
   "outputs": [],
   "source": [
    "sleep_day.Id = sleep_day.Id.astype('str')"
   ]
  },
  {
   "cell_type": "code",
   "execution_count": 79,
   "id": "7d9b1e2a",
   "metadata": {},
   "outputs": [],
   "source": [
    "daily_steps.Id = daily_steps.Id.astype('str')"
   ]
  },
  {
   "cell_type": "code",
   "execution_count": 80,
   "id": "9a8efb6c",
   "metadata": {},
   "outputs": [],
   "source": [
    "daily_calories.Id = daily_calories.Id.astype('str')"
   ]
  },
  {
   "cell_type": "markdown",
   "id": "f6de5e5a",
   "metadata": {},
   "source": [
    "Let’s Check The Data"
   ]
  },
  {
   "cell_type": "code",
   "execution_count": 81,
   "id": "cac972b7",
   "metadata": {},
   "outputs": [
    {
     "name": "stdout",
     "output_type": "stream",
     "text": [
      "<class 'pandas.core.frame.DataFrame'>\n",
      "RangeIndex: 940 entries, 0 to 939\n",
      "Data columns (total 15 columns):\n",
      " #   Column                    Non-Null Count  Dtype         \n",
      "---  ------                    --------------  -----         \n",
      " 0   Id                        940 non-null    object        \n",
      " 1   ActivityDate              940 non-null    datetime64[ns]\n",
      " 2   TotalSteps                940 non-null    int64         \n",
      " 3   TotalDistance             940 non-null    float64       \n",
      " 4   TrackerDistance           940 non-null    float64       \n",
      " 5   LoggedActivitiesDistance  940 non-null    float64       \n",
      " 6   VeryActiveDistance        940 non-null    float64       \n",
      " 7   ModeratelyActiveDistance  940 non-null    float64       \n",
      " 8   LightActiveDistance       940 non-null    float64       \n",
      " 9   SedentaryActiveDistance   940 non-null    float64       \n",
      " 10  VeryActiveMinutes         940 non-null    int64         \n",
      " 11  FairlyActiveMinutes       940 non-null    int64         \n",
      " 12  LightlyActiveMinutes      940 non-null    int64         \n",
      " 13  SedentaryMinutes          940 non-null    int64         \n",
      " 14  Calories                  940 non-null    int64         \n",
      "dtypes: datetime64[ns](1), float64(7), int64(6), object(1)\n",
      "memory usage: 110.3+ KB\n"
     ]
    }
   ],
   "source": [
    "daily_activity.info()"
   ]
  },
  {
   "cell_type": "code",
   "execution_count": 82,
   "id": "8a5cff49",
   "metadata": {},
   "outputs": [
    {
     "name": "stdout",
     "output_type": "stream",
     "text": [
      "<class 'pandas.core.frame.DataFrame'>\n",
      "RangeIndex: 413 entries, 0 to 412\n",
      "Data columns (total 5 columns):\n",
      " #   Column              Non-Null Count  Dtype         \n",
      "---  ------              --------------  -----         \n",
      " 0   Id                  413 non-null    object        \n",
      " 1   SleepDay            413 non-null    datetime64[ns]\n",
      " 2   TotalSleepRecords   413 non-null    int64         \n",
      " 3   TotalMinutesAsleep  413 non-null    int64         \n",
      " 4   TotalTimeInBed      413 non-null    int64         \n",
      "dtypes: datetime64[ns](1), int64(3), object(1)\n",
      "memory usage: 16.3+ KB\n"
     ]
    }
   ],
   "source": [
    "sleep_day.info()"
   ]
  },
  {
   "cell_type": "code",
   "execution_count": 83,
   "id": "7f05749e",
   "metadata": {},
   "outputs": [
    {
     "name": "stdout",
     "output_type": "stream",
     "text": [
      "<class 'pandas.core.frame.DataFrame'>\n",
      "RangeIndex: 940 entries, 0 to 939\n",
      "Data columns (total 3 columns):\n",
      " #   Column       Non-Null Count  Dtype         \n",
      "---  ------       --------------  -----         \n",
      " 0   Id           940 non-null    object        \n",
      " 1   ActivityDay  940 non-null    datetime64[ns]\n",
      " 2   StepTotal    940 non-null    int64         \n",
      "dtypes: datetime64[ns](1), int64(1), object(1)\n",
      "memory usage: 22.2+ KB\n"
     ]
    }
   ],
   "source": [
    "daily_steps.info()"
   ]
  },
  {
   "cell_type": "code",
   "execution_count": 84,
   "id": "f2f176ae",
   "metadata": {},
   "outputs": [
    {
     "name": "stdout",
     "output_type": "stream",
     "text": [
      "<class 'pandas.core.frame.DataFrame'>\n",
      "RangeIndex: 940 entries, 0 to 939\n",
      "Data columns (total 3 columns):\n",
      " #   Column       Non-Null Count  Dtype         \n",
      "---  ------       --------------  -----         \n",
      " 0   Id           940 non-null    object        \n",
      " 1   ActivityDay  940 non-null    datetime64[ns]\n",
      " 2   Calories     940 non-null    int64         \n",
      "dtypes: datetime64[ns](1), int64(1), object(1)\n",
      "memory usage: 22.2+ KB\n"
     ]
    }
   ],
   "source": [
    "daily_calories.info()"
   ]
  },
  {
   "cell_type": "markdown",
   "id": "eea8dfb4",
   "metadata": {},
   "source": [
    "We have observed that all the data in daily_calories and daily_steps dataframe is also present in daily_activity so we can ignore these two dataframes\n",
    "\n",
    "Let’s join tables daily_activity and sleep_day so that we can do analysis in a better way We are going to join these two tables based on Id and ActivityDate(SleepDay in sleep_day) We are going to take certain important columns from these two tables which are important for our analysis"
   ]
  },
  {
   "cell_type": "code",
   "execution_count": 85,
   "id": "1ef7ea68",
   "metadata": {},
   "outputs": [
    {
     "data": {
      "text/html": [
       "<div>\n",
       "<style scoped>\n",
       "    .dataframe tbody tr th:only-of-type {\n",
       "        vertical-align: middle;\n",
       "    }\n",
       "\n",
       "    .dataframe tbody tr th {\n",
       "        vertical-align: top;\n",
       "    }\n",
       "\n",
       "    .dataframe thead th {\n",
       "        text-align: right;\n",
       "    }\n",
       "</style>\n",
       "<table border=\"1\" class=\"dataframe\">\n",
       "  <thead>\n",
       "    <tr style=\"text-align: right;\">\n",
       "      <th></th>\n",
       "      <th>Id</th>\n",
       "      <th>ActivityDate</th>\n",
       "      <th>TotalSteps</th>\n",
       "      <th>TotalDistance</th>\n",
       "      <th>SedentaryMinutes</th>\n",
       "      <th>Calories</th>\n",
       "      <th>TotalSleepRecords</th>\n",
       "      <th>TotalMinutesAsleep</th>\n",
       "      <th>TotalTimeInBed</th>\n",
       "    </tr>\n",
       "  </thead>\n",
       "  <tbody>\n",
       "    <tr>\n",
       "      <th>0</th>\n",
       "      <td>1503960366</td>\n",
       "      <td>2016-04-12 00:00:00.000000</td>\n",
       "      <td>13162</td>\n",
       "      <td>8.50</td>\n",
       "      <td>728</td>\n",
       "      <td>1985</td>\n",
       "      <td>1</td>\n",
       "      <td>327</td>\n",
       "      <td>346</td>\n",
       "    </tr>\n",
       "    <tr>\n",
       "      <th>1</th>\n",
       "      <td>1503960366</td>\n",
       "      <td>2016-04-13 00:00:00.000000</td>\n",
       "      <td>10735</td>\n",
       "      <td>6.97</td>\n",
       "      <td>776</td>\n",
       "      <td>1797</td>\n",
       "      <td>2</td>\n",
       "      <td>384</td>\n",
       "      <td>407</td>\n",
       "    </tr>\n",
       "    <tr>\n",
       "      <th>2</th>\n",
       "      <td>1503960366</td>\n",
       "      <td>2016-04-15 00:00:00.000000</td>\n",
       "      <td>9762</td>\n",
       "      <td>6.28</td>\n",
       "      <td>726</td>\n",
       "      <td>1745</td>\n",
       "      <td>1</td>\n",
       "      <td>412</td>\n",
       "      <td>442</td>\n",
       "    </tr>\n",
       "    <tr>\n",
       "      <th>3</th>\n",
       "      <td>1503960366</td>\n",
       "      <td>2016-04-16 00:00:00.000000</td>\n",
       "      <td>12669</td>\n",
       "      <td>8.16</td>\n",
       "      <td>773</td>\n",
       "      <td>1863</td>\n",
       "      <td>2</td>\n",
       "      <td>340</td>\n",
       "      <td>367</td>\n",
       "    </tr>\n",
       "    <tr>\n",
       "      <th>4</th>\n",
       "      <td>1503960366</td>\n",
       "      <td>2016-04-17 00:00:00.000000</td>\n",
       "      <td>9705</td>\n",
       "      <td>6.48</td>\n",
       "      <td>539</td>\n",
       "      <td>1728</td>\n",
       "      <td>1</td>\n",
       "      <td>700</td>\n",
       "      <td>712</td>\n",
       "    </tr>\n",
       "    <tr>\n",
       "      <th>...</th>\n",
       "      <td>...</td>\n",
       "      <td>...</td>\n",
       "      <td>...</td>\n",
       "      <td>...</td>\n",
       "      <td>...</td>\n",
       "      <td>...</td>\n",
       "      <td>...</td>\n",
       "      <td>...</td>\n",
       "      <td>...</td>\n",
       "    </tr>\n",
       "    <tr>\n",
       "      <th>408</th>\n",
       "      <td>8792009665</td>\n",
       "      <td>2016-04-30 00:00:00.000000</td>\n",
       "      <td>7174</td>\n",
       "      <td>4.59</td>\n",
       "      <td>749</td>\n",
       "      <td>2896</td>\n",
       "      <td>1</td>\n",
       "      <td>343</td>\n",
       "      <td>360</td>\n",
       "    </tr>\n",
       "    <tr>\n",
       "      <th>409</th>\n",
       "      <td>8792009665</td>\n",
       "      <td>2016-05-01 00:00:00.000000</td>\n",
       "      <td>1619</td>\n",
       "      <td>1.04</td>\n",
       "      <td>834</td>\n",
       "      <td>1962</td>\n",
       "      <td>1</td>\n",
       "      <td>503</td>\n",
       "      <td>527</td>\n",
       "    </tr>\n",
       "    <tr>\n",
       "      <th>410</th>\n",
       "      <td>8792009665</td>\n",
       "      <td>2016-05-02 00:00:00.000000</td>\n",
       "      <td>1831</td>\n",
       "      <td>1.17</td>\n",
       "      <td>916</td>\n",
       "      <td>2015</td>\n",
       "      <td>1</td>\n",
       "      <td>415</td>\n",
       "      <td>423</td>\n",
       "    </tr>\n",
       "    <tr>\n",
       "      <th>411</th>\n",
       "      <td>8792009665</td>\n",
       "      <td>2016-05-03 00:00:00.000000</td>\n",
       "      <td>2421</td>\n",
       "      <td>1.55</td>\n",
       "      <td>739</td>\n",
       "      <td>2297</td>\n",
       "      <td>1</td>\n",
       "      <td>516</td>\n",
       "      <td>545</td>\n",
       "    </tr>\n",
       "    <tr>\n",
       "      <th>412</th>\n",
       "      <td>8792009665</td>\n",
       "      <td>2016-05-04 00:00:00.000000</td>\n",
       "      <td>2283</td>\n",
       "      <td>1.46</td>\n",
       "      <td>848</td>\n",
       "      <td>2067</td>\n",
       "      <td>1</td>\n",
       "      <td>439</td>\n",
       "      <td>463</td>\n",
       "    </tr>\n",
       "  </tbody>\n",
       "</table>\n",
       "<p>413 rows × 9 columns</p>\n",
       "</div>"
      ],
      "text/plain": [
       "             Id                ActivityDate  TotalSteps  TotalDistance  \\\n",
       "0    1503960366  2016-04-12 00:00:00.000000       13162           8.50   \n",
       "1    1503960366  2016-04-13 00:00:00.000000       10735           6.97   \n",
       "2    1503960366  2016-04-15 00:00:00.000000        9762           6.28   \n",
       "3    1503960366  2016-04-16 00:00:00.000000       12669           8.16   \n",
       "4    1503960366  2016-04-17 00:00:00.000000        9705           6.48   \n",
       "..          ...                         ...         ...            ...   \n",
       "408  8792009665  2016-04-30 00:00:00.000000        7174           4.59   \n",
       "409  8792009665  2016-05-01 00:00:00.000000        1619           1.04   \n",
       "410  8792009665  2016-05-02 00:00:00.000000        1831           1.17   \n",
       "411  8792009665  2016-05-03 00:00:00.000000        2421           1.55   \n",
       "412  8792009665  2016-05-04 00:00:00.000000        2283           1.46   \n",
       "\n",
       "     SedentaryMinutes  Calories  TotalSleepRecords  TotalMinutesAsleep  \\\n",
       "0                 728      1985                  1                 327   \n",
       "1                 776      1797                  2                 384   \n",
       "2                 726      1745                  1                 412   \n",
       "3                 773      1863                  2                 340   \n",
       "4                 539      1728                  1                 700   \n",
       "..                ...       ...                ...                 ...   \n",
       "408               749      2896                  1                 343   \n",
       "409               834      1962                  1                 503   \n",
       "410               916      2015                  1                 415   \n",
       "411               739      2297                  1                 516   \n",
       "412               848      2067                  1                 439   \n",
       "\n",
       "     TotalTimeInBed  \n",
       "0               346  \n",
       "1               407  \n",
       "2               442  \n",
       "3               367  \n",
       "4               712  \n",
       "..              ...  \n",
       "408             360  \n",
       "409             527  \n",
       "410             423  \n",
       "411             545  \n",
       "412             463  \n",
       "\n",
       "[413 rows x 9 columns]"
      ]
     },
     "execution_count": 85,
     "metadata": {},
     "output_type": "execute_result"
    }
   ],
   "source": [
    "query = '''\n",
    "SELECT ac.Id, ac.ActivityDate, ac.TotalSteps\n",
    "      , ac.TotalDistance, ac.SedentaryMinutes, ac.Calories, sl.TotalSleepRecords\n",
    "      , sl.TotalMinutesAsleep, sl.TotalTimeInBed FROM daily_activity ac\n",
    "      INNER JOIN sleep_day sl\n",
    "      ON ac.Id = sl.Id\n",
    "      AND ac.ActivityDate = sl.SleepDay\n",
    "      '''\n",
    "activity_sleep_combined = mysql(query)\n",
    "mysql(query)"
   ]
  },
  {
   "cell_type": "markdown",
   "id": "1f6a4776",
   "metadata": {},
   "source": [
    "Let's Check The Data"
   ]
  },
  {
   "cell_type": "code",
   "execution_count": 86,
   "id": "8e93ae7a",
   "metadata": {},
   "outputs": [],
   "source": [
    "activity_sleep_combined.ActivityDate = pd.to_datetime(activity_sleep_combined.ActivityDate, format='%Y-%m-%d %H:%M:%S')"
   ]
  },
  {
   "cell_type": "code",
   "execution_count": 87,
   "id": "c0ae3316",
   "metadata": {},
   "outputs": [
    {
     "data": {
      "text/html": [
       "<div>\n",
       "<style scoped>\n",
       "    .dataframe tbody tr th:only-of-type {\n",
       "        vertical-align: middle;\n",
       "    }\n",
       "\n",
       "    .dataframe tbody tr th {\n",
       "        vertical-align: top;\n",
       "    }\n",
       "\n",
       "    .dataframe thead th {\n",
       "        text-align: right;\n",
       "    }\n",
       "</style>\n",
       "<table border=\"1\" class=\"dataframe\">\n",
       "  <thead>\n",
       "    <tr style=\"text-align: right;\">\n",
       "      <th></th>\n",
       "      <th>Id</th>\n",
       "      <th>ActivityDate</th>\n",
       "      <th>TotalSteps</th>\n",
       "      <th>TotalDistance</th>\n",
       "      <th>SedentaryMinutes</th>\n",
       "      <th>Calories</th>\n",
       "      <th>TotalSleepRecords</th>\n",
       "      <th>TotalMinutesAsleep</th>\n",
       "      <th>TotalTimeInBed</th>\n",
       "    </tr>\n",
       "  </thead>\n",
       "  <tbody>\n",
       "    <tr>\n",
       "      <th>0</th>\n",
       "      <td>1503960366</td>\n",
       "      <td>2016-04-12</td>\n",
       "      <td>13162</td>\n",
       "      <td>8.50</td>\n",
       "      <td>728</td>\n",
       "      <td>1985</td>\n",
       "      <td>1</td>\n",
       "      <td>327</td>\n",
       "      <td>346</td>\n",
       "    </tr>\n",
       "    <tr>\n",
       "      <th>1</th>\n",
       "      <td>1503960366</td>\n",
       "      <td>2016-04-13</td>\n",
       "      <td>10735</td>\n",
       "      <td>6.97</td>\n",
       "      <td>776</td>\n",
       "      <td>1797</td>\n",
       "      <td>2</td>\n",
       "      <td>384</td>\n",
       "      <td>407</td>\n",
       "    </tr>\n",
       "    <tr>\n",
       "      <th>2</th>\n",
       "      <td>1503960366</td>\n",
       "      <td>2016-04-15</td>\n",
       "      <td>9762</td>\n",
       "      <td>6.28</td>\n",
       "      <td>726</td>\n",
       "      <td>1745</td>\n",
       "      <td>1</td>\n",
       "      <td>412</td>\n",
       "      <td>442</td>\n",
       "    </tr>\n",
       "    <tr>\n",
       "      <th>3</th>\n",
       "      <td>1503960366</td>\n",
       "      <td>2016-04-16</td>\n",
       "      <td>12669</td>\n",
       "      <td>8.16</td>\n",
       "      <td>773</td>\n",
       "      <td>1863</td>\n",
       "      <td>2</td>\n",
       "      <td>340</td>\n",
       "      <td>367</td>\n",
       "    </tr>\n",
       "    <tr>\n",
       "      <th>4</th>\n",
       "      <td>1503960366</td>\n",
       "      <td>2016-04-17</td>\n",
       "      <td>9705</td>\n",
       "      <td>6.48</td>\n",
       "      <td>539</td>\n",
       "      <td>1728</td>\n",
       "      <td>1</td>\n",
       "      <td>700</td>\n",
       "      <td>712</td>\n",
       "    </tr>\n",
       "  </tbody>\n",
       "</table>\n",
       "</div>"
      ],
      "text/plain": [
       "           Id ActivityDate  TotalSteps  TotalDistance  SedentaryMinutes  \\\n",
       "0  1503960366   2016-04-12       13162           8.50               728   \n",
       "1  1503960366   2016-04-13       10735           6.97               776   \n",
       "2  1503960366   2016-04-15        9762           6.28               726   \n",
       "3  1503960366   2016-04-16       12669           8.16               773   \n",
       "4  1503960366   2016-04-17        9705           6.48               539   \n",
       "\n",
       "   Calories  TotalSleepRecords  TotalMinutesAsleep  TotalTimeInBed  \n",
       "0      1985                  1                 327             346  \n",
       "1      1797                  2                 384             407  \n",
       "2      1745                  1                 412             442  \n",
       "3      1863                  2                 340             367  \n",
       "4      1728                  1                 700             712  "
      ]
     },
     "execution_count": 87,
     "metadata": {},
     "output_type": "execute_result"
    }
   ],
   "source": [
    "activity_sleep_combined.head()"
   ]
  },
  {
   "cell_type": "code",
   "execution_count": 88,
   "id": "d3dc05bf",
   "metadata": {},
   "outputs": [
    {
     "name": "stdout",
     "output_type": "stream",
     "text": [
      "<class 'pandas.core.frame.DataFrame'>\n",
      "RangeIndex: 413 entries, 0 to 412\n",
      "Data columns (total 9 columns):\n",
      " #   Column              Non-Null Count  Dtype         \n",
      "---  ------              --------------  -----         \n",
      " 0   Id                  413 non-null    object        \n",
      " 1   ActivityDate        413 non-null    datetime64[ns]\n",
      " 2   TotalSteps          413 non-null    int64         \n",
      " 3   TotalDistance       413 non-null    float64       \n",
      " 4   SedentaryMinutes    413 non-null    int64         \n",
      " 5   Calories            413 non-null    int64         \n",
      " 6   TotalSleepRecords   413 non-null    int64         \n",
      " 7   TotalMinutesAsleep  413 non-null    int64         \n",
      " 8   TotalTimeInBed      413 non-null    int64         \n",
      "dtypes: datetime64[ns](1), float64(1), int64(6), object(1)\n",
      "memory usage: 29.2+ KB\n"
     ]
    }
   ],
   "source": [
    "activity_sleep_combined.info()"
   ]
  },
  {
   "cell_type": "markdown",
   "id": "4308c32c",
   "metadata": {},
   "source": [
    "The data can only be aggregated at the Id-level, which is too granular. We will want to add some additional columns of data – such as day, month that provide additional opportunities to aggregate the data.\n",
    "\n",
    "Add columns that list the date and month of the dataframe\n",
    "\n",
    "This will allow us to aggregate data for each month, day before completing these operations we could only aggregate at the level"
   ]
  },
  {
   "cell_type": "code",
   "execution_count": 89,
   "id": "975575ae",
   "metadata": {},
   "outputs": [],
   "source": [
    "activity_sleep_combined['day'] = pd.to_datetime(activity_sleep_combined.ActivityDate).dt.day"
   ]
  },
  {
   "cell_type": "code",
   "execution_count": 90,
   "id": "508d0d86",
   "metadata": {},
   "outputs": [],
   "source": [
    "activity_sleep_combined['month'] = pd.to_datetime(activity_sleep_combined.ActivityDate).dt.month"
   ]
  },
  {
   "cell_type": "code",
   "execution_count": 91,
   "id": "c3ef710f",
   "metadata": {},
   "outputs": [],
   "source": [
    "activity_sleep_combined['day_of_week'] = pd.to_datetime(activity_sleep_combined.ActivityDate).dt.day_name()"
   ]
  },
  {
   "cell_type": "markdown",
   "id": "c53f24bc",
   "metadata": {},
   "source": [
    "Let's check the data"
   ]
  },
  {
   "cell_type": "code",
   "execution_count": 92,
   "id": "4965e6bb",
   "metadata": {},
   "outputs": [
    {
     "name": "stdout",
     "output_type": "stream",
     "text": [
      "<class 'pandas.core.frame.DataFrame'>\n",
      "RangeIndex: 413 entries, 0 to 412\n",
      "Data columns (total 12 columns):\n",
      " #   Column              Non-Null Count  Dtype         \n",
      "---  ------              --------------  -----         \n",
      " 0   Id                  413 non-null    object        \n",
      " 1   ActivityDate        413 non-null    datetime64[ns]\n",
      " 2   TotalSteps          413 non-null    int64         \n",
      " 3   TotalDistance       413 non-null    float64       \n",
      " 4   SedentaryMinutes    413 non-null    int64         \n",
      " 5   Calories            413 non-null    int64         \n",
      " 6   TotalSleepRecords   413 non-null    int64         \n",
      " 7   TotalMinutesAsleep  413 non-null    int64         \n",
      " 8   TotalTimeInBed      413 non-null    int64         \n",
      " 9   day                 413 non-null    int64         \n",
      " 10  month               413 non-null    int64         \n",
      " 11  day_of_week         413 non-null    object        \n",
      "dtypes: datetime64[ns](1), float64(1), int64(8), object(2)\n",
      "memory usage: 38.8+ KB\n"
     ]
    }
   ],
   "source": [
    "activity_sleep_combined.info()"
   ]
  },
  {
   "cell_type": "code",
   "execution_count": 93,
   "id": "1915050c",
   "metadata": {},
   "outputs": [
    {
     "data": {
      "text/html": [
       "<div>\n",
       "<style scoped>\n",
       "    .dataframe tbody tr th:only-of-type {\n",
       "        vertical-align: middle;\n",
       "    }\n",
       "\n",
       "    .dataframe tbody tr th {\n",
       "        vertical-align: top;\n",
       "    }\n",
       "\n",
       "    .dataframe thead th {\n",
       "        text-align: right;\n",
       "    }\n",
       "</style>\n",
       "<table border=\"1\" class=\"dataframe\">\n",
       "  <thead>\n",
       "    <tr style=\"text-align: right;\">\n",
       "      <th></th>\n",
       "      <th>Id</th>\n",
       "      <th>ActivityDate</th>\n",
       "      <th>TotalSteps</th>\n",
       "      <th>TotalDistance</th>\n",
       "      <th>SedentaryMinutes</th>\n",
       "      <th>Calories</th>\n",
       "      <th>TotalSleepRecords</th>\n",
       "      <th>TotalMinutesAsleep</th>\n",
       "      <th>TotalTimeInBed</th>\n",
       "      <th>day</th>\n",
       "      <th>month</th>\n",
       "      <th>day_of_week</th>\n",
       "    </tr>\n",
       "  </thead>\n",
       "  <tbody>\n",
       "    <tr>\n",
       "      <th>0</th>\n",
       "      <td>1503960366</td>\n",
       "      <td>2016-04-12</td>\n",
       "      <td>13162</td>\n",
       "      <td>8.50</td>\n",
       "      <td>728</td>\n",
       "      <td>1985</td>\n",
       "      <td>1</td>\n",
       "      <td>327</td>\n",
       "      <td>346</td>\n",
       "      <td>12</td>\n",
       "      <td>4</td>\n",
       "      <td>Tuesday</td>\n",
       "    </tr>\n",
       "    <tr>\n",
       "      <th>1</th>\n",
       "      <td>1503960366</td>\n",
       "      <td>2016-04-13</td>\n",
       "      <td>10735</td>\n",
       "      <td>6.97</td>\n",
       "      <td>776</td>\n",
       "      <td>1797</td>\n",
       "      <td>2</td>\n",
       "      <td>384</td>\n",
       "      <td>407</td>\n",
       "      <td>13</td>\n",
       "      <td>4</td>\n",
       "      <td>Wednesday</td>\n",
       "    </tr>\n",
       "    <tr>\n",
       "      <th>2</th>\n",
       "      <td>1503960366</td>\n",
       "      <td>2016-04-15</td>\n",
       "      <td>9762</td>\n",
       "      <td>6.28</td>\n",
       "      <td>726</td>\n",
       "      <td>1745</td>\n",
       "      <td>1</td>\n",
       "      <td>412</td>\n",
       "      <td>442</td>\n",
       "      <td>15</td>\n",
       "      <td>4</td>\n",
       "      <td>Friday</td>\n",
       "    </tr>\n",
       "    <tr>\n",
       "      <th>3</th>\n",
       "      <td>1503960366</td>\n",
       "      <td>2016-04-16</td>\n",
       "      <td>12669</td>\n",
       "      <td>8.16</td>\n",
       "      <td>773</td>\n",
       "      <td>1863</td>\n",
       "      <td>2</td>\n",
       "      <td>340</td>\n",
       "      <td>367</td>\n",
       "      <td>16</td>\n",
       "      <td>4</td>\n",
       "      <td>Saturday</td>\n",
       "    </tr>\n",
       "    <tr>\n",
       "      <th>4</th>\n",
       "      <td>1503960366</td>\n",
       "      <td>2016-04-17</td>\n",
       "      <td>9705</td>\n",
       "      <td>6.48</td>\n",
       "      <td>539</td>\n",
       "      <td>1728</td>\n",
       "      <td>1</td>\n",
       "      <td>700</td>\n",
       "      <td>712</td>\n",
       "      <td>17</td>\n",
       "      <td>4</td>\n",
       "      <td>Sunday</td>\n",
       "    </tr>\n",
       "  </tbody>\n",
       "</table>\n",
       "</div>"
      ],
      "text/plain": [
       "           Id ActivityDate  TotalSteps  TotalDistance  SedentaryMinutes  \\\n",
       "0  1503960366   2016-04-12       13162           8.50               728   \n",
       "1  1503960366   2016-04-13       10735           6.97               776   \n",
       "2  1503960366   2016-04-15        9762           6.28               726   \n",
       "3  1503960366   2016-04-16       12669           8.16               773   \n",
       "4  1503960366   2016-04-17        9705           6.48               539   \n",
       "\n",
       "   Calories  TotalSleepRecords  TotalMinutesAsleep  TotalTimeInBed  day  \\\n",
       "0      1985                  1                 327             346   12   \n",
       "1      1797                  2                 384             407   13   \n",
       "2      1745                  1                 412             442   15   \n",
       "3      1863                  2                 340             367   16   \n",
       "4      1728                  1                 700             712   17   \n",
       "\n",
       "   month day_of_week  \n",
       "0      4     Tuesday  \n",
       "1      4   Wednesday  \n",
       "2      4      Friday  \n",
       "3      4    Saturday  \n",
       "4      4      Sunday  "
      ]
     },
     "execution_count": 93,
     "metadata": {},
     "output_type": "execute_result"
    }
   ],
   "source": [
    "activity_sleep_combined.head()"
   ]
  },
  {
   "cell_type": "markdown",
   "id": "46a0aa42",
   "metadata": {},
   "source": [
    "**Understanding some summary statistics**"
   ]
  },
  {
   "cell_type": "markdown",
   "id": "4c6d86e6",
   "metadata": {},
   "source": [
    "How many unique participants are there in each dataframe? It looks like there may be more participants in the daily activity dataset than the sleep dataset."
   ]
  },
  {
   "cell_type": "code",
   "execution_count": 94,
   "id": "7b1ed8bd",
   "metadata": {},
   "outputs": [
    {
     "data": {
      "text/html": [
       "<div>\n",
       "<style scoped>\n",
       "    .dataframe tbody tr th:only-of-type {\n",
       "        vertical-align: middle;\n",
       "    }\n",
       "\n",
       "    .dataframe tbody tr th {\n",
       "        vertical-align: top;\n",
       "    }\n",
       "\n",
       "    .dataframe thead th {\n",
       "        text-align: right;\n",
       "    }\n",
       "</style>\n",
       "<table border=\"1\" class=\"dataframe\">\n",
       "  <thead>\n",
       "    <tr style=\"text-align: right;\">\n",
       "      <th></th>\n",
       "      <th>TotalSteps</th>\n",
       "      <th>TotalDistance</th>\n",
       "      <th>SedentaryMinutes</th>\n",
       "      <th>Calories</th>\n",
       "      <th>TotalSleepRecords</th>\n",
       "      <th>TotalMinutesAsleep</th>\n",
       "      <th>TotalTimeInBed</th>\n",
       "      <th>day</th>\n",
       "      <th>month</th>\n",
       "    </tr>\n",
       "  </thead>\n",
       "  <tbody>\n",
       "    <tr>\n",
       "      <th>count</th>\n",
       "      <td>413.000000</td>\n",
       "      <td>413.000000</td>\n",
       "      <td>413.000000</td>\n",
       "      <td>413.000000</td>\n",
       "      <td>413.000000</td>\n",
       "      <td>413.000000</td>\n",
       "      <td>413.000000</td>\n",
       "      <td>413.000000</td>\n",
       "      <td>413.000000</td>\n",
       "    </tr>\n",
       "    <tr>\n",
       "      <th>mean</th>\n",
       "      <td>8541.140436</td>\n",
       "      <td>6.038620</td>\n",
       "      <td>712.169492</td>\n",
       "      <td>2397.573850</td>\n",
       "      <td>1.118644</td>\n",
       "      <td>419.467312</td>\n",
       "      <td>458.639225</td>\n",
       "      <td>15.777240</td>\n",
       "      <td>4.358354</td>\n",
       "    </tr>\n",
       "    <tr>\n",
       "      <th>std</th>\n",
       "      <td>4156.926990</td>\n",
       "      <td>3.051998</td>\n",
       "      <td>165.957432</td>\n",
       "      <td>762.886326</td>\n",
       "      <td>0.345521</td>\n",
       "      <td>118.344679</td>\n",
       "      <td>127.101607</td>\n",
       "      <td>8.704634</td>\n",
       "      <td>0.480098</td>\n",
       "    </tr>\n",
       "    <tr>\n",
       "      <th>min</th>\n",
       "      <td>17.000000</td>\n",
       "      <td>0.010000</td>\n",
       "      <td>0.000000</td>\n",
       "      <td>257.000000</td>\n",
       "      <td>1.000000</td>\n",
       "      <td>58.000000</td>\n",
       "      <td>61.000000</td>\n",
       "      <td>1.000000</td>\n",
       "      <td>4.000000</td>\n",
       "    </tr>\n",
       "    <tr>\n",
       "      <th>25%</th>\n",
       "      <td>5206.000000</td>\n",
       "      <td>3.600000</td>\n",
       "      <td>631.000000</td>\n",
       "      <td>1850.000000</td>\n",
       "      <td>1.000000</td>\n",
       "      <td>361.000000</td>\n",
       "      <td>403.000000</td>\n",
       "      <td>8.000000</td>\n",
       "      <td>4.000000</td>\n",
       "    </tr>\n",
       "    <tr>\n",
       "      <th>50%</th>\n",
       "      <td>8925.000000</td>\n",
       "      <td>6.290000</td>\n",
       "      <td>717.000000</td>\n",
       "      <td>2220.000000</td>\n",
       "      <td>1.000000</td>\n",
       "      <td>433.000000</td>\n",
       "      <td>463.000000</td>\n",
       "      <td>16.000000</td>\n",
       "      <td>4.000000</td>\n",
       "    </tr>\n",
       "    <tr>\n",
       "      <th>75%</th>\n",
       "      <td>11393.000000</td>\n",
       "      <td>8.030000</td>\n",
       "      <td>783.000000</td>\n",
       "      <td>2926.000000</td>\n",
       "      <td>1.000000</td>\n",
       "      <td>490.000000</td>\n",
       "      <td>526.000000</td>\n",
       "      <td>23.000000</td>\n",
       "      <td>5.000000</td>\n",
       "    </tr>\n",
       "    <tr>\n",
       "      <th>max</th>\n",
       "      <td>22770.000000</td>\n",
       "      <td>17.540001</td>\n",
       "      <td>1265.000000</td>\n",
       "      <td>4900.000000</td>\n",
       "      <td>3.000000</td>\n",
       "      <td>796.000000</td>\n",
       "      <td>961.000000</td>\n",
       "      <td>30.000000</td>\n",
       "      <td>5.000000</td>\n",
       "    </tr>\n",
       "  </tbody>\n",
       "</table>\n",
       "</div>"
      ],
      "text/plain": [
       "         TotalSteps  TotalDistance  SedentaryMinutes     Calories  \\\n",
       "count    413.000000     413.000000        413.000000   413.000000   \n",
       "mean    8541.140436       6.038620        712.169492  2397.573850   \n",
       "std     4156.926990       3.051998        165.957432   762.886326   \n",
       "min       17.000000       0.010000          0.000000   257.000000   \n",
       "25%     5206.000000       3.600000        631.000000  1850.000000   \n",
       "50%     8925.000000       6.290000        717.000000  2220.000000   \n",
       "75%    11393.000000       8.030000        783.000000  2926.000000   \n",
       "max    22770.000000      17.540001       1265.000000  4900.000000   \n",
       "\n",
       "       TotalSleepRecords  TotalMinutesAsleep  TotalTimeInBed         day  \\\n",
       "count         413.000000          413.000000      413.000000  413.000000   \n",
       "mean            1.118644          419.467312      458.639225   15.777240   \n",
       "std             0.345521          118.344679      127.101607    8.704634   \n",
       "min             1.000000           58.000000       61.000000    1.000000   \n",
       "25%             1.000000          361.000000      403.000000    8.000000   \n",
       "50%             1.000000          433.000000      463.000000   16.000000   \n",
       "75%             1.000000          490.000000      526.000000   23.000000   \n",
       "max             3.000000          796.000000      961.000000   30.000000   \n",
       "\n",
       "            month  \n",
       "count  413.000000  \n",
       "mean     4.358354  \n",
       "std      0.480098  \n",
       "min      4.000000  \n",
       "25%      4.000000  \n",
       "50%      4.000000  \n",
       "75%      5.000000  \n",
       "max      5.000000  "
      ]
     },
     "execution_count": 94,
     "metadata": {},
     "output_type": "execute_result"
    }
   ],
   "source": [
    "activity_sleep_combined.describe()"
   ]
  },
  {
   "cell_type": "markdown",
   "id": "6265ca09",
   "metadata": {},
   "source": [
    "**STEP 3: CONDUCT DESCRIPTIVE ANALYSIS**"
   ]
  },
  {
   "cell_type": "markdown",
   "id": "1bd83ea5",
   "metadata": {},
   "source": [
    "Let’s do some quick summary statistics we’d want to know about combined data frame\n",
    "\n",
    "For the activity_sleep_combined data frame"
   ]
  },
  {
   "cell_type": "markdown",
   "id": "ee700ba8",
   "metadata": {},
   "source": [
    "Let’s aggregate the data\n",
    "\n",
    "Let’s aggregate based on Id\n",
    "\n"
   ]
  },
  {
   "cell_type": "code",
   "execution_count": 95,
   "id": "1e011f80",
   "metadata": {},
   "outputs": [
    {
     "data": {
      "text/html": [
       "<div>\n",
       "<style scoped>\n",
       "    .dataframe tbody tr th:only-of-type {\n",
       "        vertical-align: middle;\n",
       "    }\n",
       "\n",
       "    .dataframe tbody tr th {\n",
       "        vertical-align: top;\n",
       "    }\n",
       "\n",
       "    .dataframe thead th {\n",
       "        text-align: right;\n",
       "    }\n",
       "</style>\n",
       "<table border=\"1\" class=\"dataframe\">\n",
       "  <thead>\n",
       "    <tr style=\"text-align: right;\">\n",
       "      <th></th>\n",
       "      <th>avg_TotalSteps</th>\n",
       "      <th>avg_TotalDistance</th>\n",
       "      <th>avg_SedentaryMinutes</th>\n",
       "      <th>avg_Calories</th>\n",
       "      <th>avg_TotalMinutesAsleep</th>\n",
       "      <th>avg_TotalTimeInBed</th>\n",
       "    </tr>\n",
       "    <tr>\n",
       "      <th>Id</th>\n",
       "      <th></th>\n",
       "      <th></th>\n",
       "      <th></th>\n",
       "      <th></th>\n",
       "      <th></th>\n",
       "      <th></th>\n",
       "    </tr>\n",
       "  </thead>\n",
       "  <tbody>\n",
       "    <tr>\n",
       "      <th>1503960366</th>\n",
       "      <td>12405.680000</td>\n",
       "      <td>7.971200</td>\n",
       "      <td>759.280000</td>\n",
       "      <td>1872.280000</td>\n",
       "      <td>360.280000</td>\n",
       "      <td>383.200000</td>\n",
       "    </tr>\n",
       "    <tr>\n",
       "      <th>1644430081</th>\n",
       "      <td>7967.750000</td>\n",
       "      <td>5.792500</td>\n",
       "      <td>920.500000</td>\n",
       "      <td>2977.750000</td>\n",
       "      <td>294.000000</td>\n",
       "      <td>346.000000</td>\n",
       "    </tr>\n",
       "    <tr>\n",
       "      <th>1844505072</th>\n",
       "      <td>3477.000000</td>\n",
       "      <td>2.303333</td>\n",
       "      <td>443.333333</td>\n",
       "      <td>1676.333333</td>\n",
       "      <td>652.000000</td>\n",
       "      <td>961.000000</td>\n",
       "    </tr>\n",
       "    <tr>\n",
       "      <th>1927972279</th>\n",
       "      <td>1490.000000</td>\n",
       "      <td>1.032000</td>\n",
       "      <td>977.200000</td>\n",
       "      <td>2316.200000</td>\n",
       "      <td>417.000000</td>\n",
       "      <td>437.800000</td>\n",
       "    </tr>\n",
       "    <tr>\n",
       "      <th>2026352035</th>\n",
       "      <td>5618.678571</td>\n",
       "      <td>3.487143</td>\n",
       "      <td>653.964286</td>\n",
       "      <td>1540.785714</td>\n",
       "      <td>506.178571</td>\n",
       "      <td>537.642857</td>\n",
       "    </tr>\n",
       "    <tr>\n",
       "      <th>2320127002</th>\n",
       "      <td>5079.000000</td>\n",
       "      <td>3.420000</td>\n",
       "      <td>1129.000000</td>\n",
       "      <td>1804.000000</td>\n",
       "      <td>61.000000</td>\n",
       "      <td>69.000000</td>\n",
       "    </tr>\n",
       "    <tr>\n",
       "      <th>2347167796</th>\n",
       "      <td>8533.200000</td>\n",
       "      <td>5.681333</td>\n",
       "      <td>628.400000</td>\n",
       "      <td>1971.333333</td>\n",
       "      <td>446.800000</td>\n",
       "      <td>491.333333</td>\n",
       "    </tr>\n",
       "    <tr>\n",
       "      <th>3977333714</th>\n",
       "      <td>11218.000000</td>\n",
       "      <td>7.676071</td>\n",
       "      <td>716.214286</td>\n",
       "      <td>1560.392857</td>\n",
       "      <td>293.642857</td>\n",
       "      <td>461.142857</td>\n",
       "    </tr>\n",
       "    <tr>\n",
       "      <th>4020332650</th>\n",
       "      <td>6596.750000</td>\n",
       "      <td>4.731250</td>\n",
       "      <td>841.875000</td>\n",
       "      <td>3195.000000</td>\n",
       "      <td>349.375000</td>\n",
       "      <td>379.750000</td>\n",
       "    </tr>\n",
       "    <tr>\n",
       "      <th>4319703577</th>\n",
       "      <td>7125.423077</td>\n",
       "      <td>4.785769</td>\n",
       "      <td>642.692308</td>\n",
       "      <td>2024.692308</td>\n",
       "      <td>476.653846</td>\n",
       "      <td>501.961538</td>\n",
       "    </tr>\n",
       "    <tr>\n",
       "      <th>4388161847</th>\n",
       "      <td>10974.708333</td>\n",
       "      <td>8.539167</td>\n",
       "      <td>751.458333</td>\n",
       "      <td>3131.625000</td>\n",
       "      <td>403.125000</td>\n",
       "      <td>426.208333</td>\n",
       "    </tr>\n",
       "    <tr>\n",
       "      <th>4445114986</th>\n",
       "      <td>4756.178571</td>\n",
       "      <td>3.217500</td>\n",
       "      <td>787.321429</td>\n",
       "      <td>2183.142857</td>\n",
       "      <td>385.178571</td>\n",
       "      <td>416.821429</td>\n",
       "    </tr>\n",
       "    <tr>\n",
       "      <th>4558609924</th>\n",
       "      <td>8139.000000</td>\n",
       "      <td>5.382000</td>\n",
       "      <td>1028.400000</td>\n",
       "      <td>2197.000000</td>\n",
       "      <td>127.600000</td>\n",
       "      <td>140.000000</td>\n",
       "    </tr>\n",
       "    <tr>\n",
       "      <th>4702921684</th>\n",
       "      <td>9226.357143</td>\n",
       "      <td>7.484286</td>\n",
       "      <td>693.035714</td>\n",
       "      <td>3043.250000</td>\n",
       "      <td>421.142857</td>\n",
       "      <td>441.964286</td>\n",
       "    </tr>\n",
       "    <tr>\n",
       "      <th>5553957443</th>\n",
       "      <td>8612.580645</td>\n",
       "      <td>5.639677</td>\n",
       "      <td>668.354839</td>\n",
       "      <td>1875.677419</td>\n",
       "      <td>463.483871</td>\n",
       "      <td>505.870968</td>\n",
       "    </tr>\n",
       "    <tr>\n",
       "      <th>5577150313</th>\n",
       "      <td>9260.076923</td>\n",
       "      <td>6.928462</td>\n",
       "      <td>667.307692</td>\n",
       "      <td>3539.192308</td>\n",
       "      <td>432.000000</td>\n",
       "      <td>460.615385</td>\n",
       "    </tr>\n",
       "    <tr>\n",
       "      <th>6117666160</th>\n",
       "      <td>8823.833333</td>\n",
       "      <td>6.695000</td>\n",
       "      <td>531.944444</td>\n",
       "      <td>2460.833333</td>\n",
       "      <td>478.777778</td>\n",
       "      <td>510.166667</td>\n",
       "    </tr>\n",
       "    <tr>\n",
       "      <th>6775888955</th>\n",
       "      <td>3499.000000</td>\n",
       "      <td>2.510000</td>\n",
       "      <td>964.000000</td>\n",
       "      <td>2344.666667</td>\n",
       "      <td>349.666667</td>\n",
       "      <td>369.000000</td>\n",
       "    </tr>\n",
       "    <tr>\n",
       "      <th>6962181067</th>\n",
       "      <td>9794.806452</td>\n",
       "      <td>6.585806</td>\n",
       "      <td>662.322581</td>\n",
       "      <td>1982.032258</td>\n",
       "      <td>448.000000</td>\n",
       "      <td>466.129032</td>\n",
       "    </tr>\n",
       "    <tr>\n",
       "      <th>7007744171</th>\n",
       "      <td>5115.500000</td>\n",
       "      <td>3.425000</td>\n",
       "      <td>1148.500000</td>\n",
       "      <td>2150.500000</td>\n",
       "      <td>68.500000</td>\n",
       "      <td>71.500000</td>\n",
       "    </tr>\n",
       "    <tr>\n",
       "      <th>7086361926</th>\n",
       "      <td>10290.500000</td>\n",
       "      <td>7.006667</td>\n",
       "      <td>723.666667</td>\n",
       "      <td>2657.625000</td>\n",
       "      <td>453.125000</td>\n",
       "      <td>466.416667</td>\n",
       "    </tr>\n",
       "    <tr>\n",
       "      <th>8053475328</th>\n",
       "      <td>19078.666667</td>\n",
       "      <td>15.016667</td>\n",
       "      <td>837.333333</td>\n",
       "      <td>3309.333333</td>\n",
       "      <td>297.000000</td>\n",
       "      <td>301.666667</td>\n",
       "    </tr>\n",
       "    <tr>\n",
       "      <th>8378563200</th>\n",
       "      <td>8832.937500</td>\n",
       "      <td>7.005000</td>\n",
       "      <td>715.375000</td>\n",
       "      <td>3454.343750</td>\n",
       "      <td>443.343750</td>\n",
       "      <td>483.312500</td>\n",
       "    </tr>\n",
       "    <tr>\n",
       "      <th>8792009665</th>\n",
       "      <td>3443.266667</td>\n",
       "      <td>2.203333</td>\n",
       "      <td>807.800000</td>\n",
       "      <td>2299.333333</td>\n",
       "      <td>435.666667</td>\n",
       "      <td>453.800000</td>\n",
       "    </tr>\n",
       "  </tbody>\n",
       "</table>\n",
       "</div>"
      ],
      "text/plain": [
       "            avg_TotalSteps  avg_TotalDistance  avg_SedentaryMinutes  \\\n",
       "Id                                                                    \n",
       "1503960366    12405.680000           7.971200            759.280000   \n",
       "1644430081     7967.750000           5.792500            920.500000   \n",
       "1844505072     3477.000000           2.303333            443.333333   \n",
       "1927972279     1490.000000           1.032000            977.200000   \n",
       "2026352035     5618.678571           3.487143            653.964286   \n",
       "2320127002     5079.000000           3.420000           1129.000000   \n",
       "2347167796     8533.200000           5.681333            628.400000   \n",
       "3977333714    11218.000000           7.676071            716.214286   \n",
       "4020332650     6596.750000           4.731250            841.875000   \n",
       "4319703577     7125.423077           4.785769            642.692308   \n",
       "4388161847    10974.708333           8.539167            751.458333   \n",
       "4445114986     4756.178571           3.217500            787.321429   \n",
       "4558609924     8139.000000           5.382000           1028.400000   \n",
       "4702921684     9226.357143           7.484286            693.035714   \n",
       "5553957443     8612.580645           5.639677            668.354839   \n",
       "5577150313     9260.076923           6.928462            667.307692   \n",
       "6117666160     8823.833333           6.695000            531.944444   \n",
       "6775888955     3499.000000           2.510000            964.000000   \n",
       "6962181067     9794.806452           6.585806            662.322581   \n",
       "7007744171     5115.500000           3.425000           1148.500000   \n",
       "7086361926    10290.500000           7.006667            723.666667   \n",
       "8053475328    19078.666667          15.016667            837.333333   \n",
       "8378563200     8832.937500           7.005000            715.375000   \n",
       "8792009665     3443.266667           2.203333            807.800000   \n",
       "\n",
       "            avg_Calories  avg_TotalMinutesAsleep  avg_TotalTimeInBed  \n",
       "Id                                                                    \n",
       "1503960366   1872.280000              360.280000          383.200000  \n",
       "1644430081   2977.750000              294.000000          346.000000  \n",
       "1844505072   1676.333333              652.000000          961.000000  \n",
       "1927972279   2316.200000              417.000000          437.800000  \n",
       "2026352035   1540.785714              506.178571          537.642857  \n",
       "2320127002   1804.000000               61.000000           69.000000  \n",
       "2347167796   1971.333333              446.800000          491.333333  \n",
       "3977333714   1560.392857              293.642857          461.142857  \n",
       "4020332650   3195.000000              349.375000          379.750000  \n",
       "4319703577   2024.692308              476.653846          501.961538  \n",
       "4388161847   3131.625000              403.125000          426.208333  \n",
       "4445114986   2183.142857              385.178571          416.821429  \n",
       "4558609924   2197.000000              127.600000          140.000000  \n",
       "4702921684   3043.250000              421.142857          441.964286  \n",
       "5553957443   1875.677419              463.483871          505.870968  \n",
       "5577150313   3539.192308              432.000000          460.615385  \n",
       "6117666160   2460.833333              478.777778          510.166667  \n",
       "6775888955   2344.666667              349.666667          369.000000  \n",
       "6962181067   1982.032258              448.000000          466.129032  \n",
       "7007744171   2150.500000               68.500000           71.500000  \n",
       "7086361926   2657.625000              453.125000          466.416667  \n",
       "8053475328   3309.333333              297.000000          301.666667  \n",
       "8378563200   3454.343750              443.343750          483.312500  \n",
       "8792009665   2299.333333              435.666667          453.800000  "
      ]
     },
     "execution_count": 95,
     "metadata": {},
     "output_type": "execute_result"
    }
   ],
   "source": [
    "activity_sleep_combined.groupby(\"Id\")[['TotalSteps', 'TotalDistance', 'SedentaryMinutes', 'Calories', \n",
    "                                      'TotalMinutesAsleep', 'TotalTimeInBed']].mean().add_prefix('avg_')"
   ]
  },
  {
   "cell_type": "markdown",
   "id": "9f985df9",
   "metadata": {},
   "source": [
    "Let’s aggregate based on day_of_week"
   ]
  },
  {
   "cell_type": "code",
   "execution_count": 96,
   "id": "2f5a30fb",
   "metadata": {},
   "outputs": [
    {
     "data": {
      "text/html": [
       "<div>\n",
       "<style scoped>\n",
       "    .dataframe tbody tr th:only-of-type {\n",
       "        vertical-align: middle;\n",
       "    }\n",
       "\n",
       "    .dataframe tbody tr th {\n",
       "        vertical-align: top;\n",
       "    }\n",
       "\n",
       "    .dataframe thead th {\n",
       "        text-align: right;\n",
       "    }\n",
       "</style>\n",
       "<table border=\"1\" class=\"dataframe\">\n",
       "  <thead>\n",
       "    <tr style=\"text-align: right;\">\n",
       "      <th></th>\n",
       "      <th>avg_TotalSteps</th>\n",
       "      <th>avg_TotalDistance</th>\n",
       "      <th>avg_SedentaryMinutes</th>\n",
       "      <th>avg_Calories</th>\n",
       "      <th>avg_TotalMinutesAsleep</th>\n",
       "      <th>avg_TotalTimeInBed</th>\n",
       "    </tr>\n",
       "    <tr>\n",
       "      <th>day_of_week</th>\n",
       "      <th></th>\n",
       "      <th></th>\n",
       "      <th></th>\n",
       "      <th></th>\n",
       "      <th></th>\n",
       "      <th></th>\n",
       "    </tr>\n",
       "  </thead>\n",
       "  <tbody>\n",
       "    <tr>\n",
       "      <th>Friday</th>\n",
       "      <td>7901.403509</td>\n",
       "      <td>5.511930</td>\n",
       "      <td>743.087719</td>\n",
       "      <td>2329.649123</td>\n",
       "      <td>405.421053</td>\n",
       "      <td>445.052632</td>\n",
       "    </tr>\n",
       "    <tr>\n",
       "      <th>Monday</th>\n",
       "      <td>9339.851064</td>\n",
       "      <td>6.611064</td>\n",
       "      <td>717.851064</td>\n",
       "      <td>2465.446809</td>\n",
       "      <td>418.829787</td>\n",
       "      <td>456.170213</td>\n",
       "    </tr>\n",
       "    <tr>\n",
       "      <th>Saturday</th>\n",
       "      <td>9948.689655</td>\n",
       "      <td>7.095690</td>\n",
       "      <td>678.655172</td>\n",
       "      <td>2527.172414</td>\n",
       "      <td>420.810345</td>\n",
       "      <td>461.275862</td>\n",
       "    </tr>\n",
       "    <tr>\n",
       "      <th>Sunday</th>\n",
       "      <td>7297.854545</td>\n",
       "      <td>5.184727</td>\n",
       "      <td>687.636364</td>\n",
       "      <td>2276.600000</td>\n",
       "      <td>452.745455</td>\n",
       "      <td>503.509091</td>\n",
       "    </tr>\n",
       "    <tr>\n",
       "      <th>Thursday</th>\n",
       "      <td>8205.353846</td>\n",
       "      <td>5.798154</td>\n",
       "      <td>701.415385</td>\n",
       "      <td>2315.784615</td>\n",
       "      <td>402.369231</td>\n",
       "      <td>435.800000</td>\n",
       "    </tr>\n",
       "    <tr>\n",
       "      <th>Tuesday</th>\n",
       "      <td>9182.692308</td>\n",
       "      <td>6.430000</td>\n",
       "      <td>740.046154</td>\n",
       "      <td>2496.200000</td>\n",
       "      <td>404.538462</td>\n",
       "      <td>443.292308</td>\n",
       "    </tr>\n",
       "    <tr>\n",
       "      <th>Wednesday</th>\n",
       "      <td>8022.863636</td>\n",
       "      <td>5.719849</td>\n",
       "      <td>714.454545</td>\n",
       "      <td>2378.242424</td>\n",
       "      <td>434.681818</td>\n",
       "      <td>470.030303</td>\n",
       "    </tr>\n",
       "  </tbody>\n",
       "</table>\n",
       "</div>"
      ],
      "text/plain": [
       "             avg_TotalSteps  avg_TotalDistance  avg_SedentaryMinutes  \\\n",
       "day_of_week                                                            \n",
       "Friday          7901.403509           5.511930            743.087719   \n",
       "Monday          9339.851064           6.611064            717.851064   \n",
       "Saturday        9948.689655           7.095690            678.655172   \n",
       "Sunday          7297.854545           5.184727            687.636364   \n",
       "Thursday        8205.353846           5.798154            701.415385   \n",
       "Tuesday         9182.692308           6.430000            740.046154   \n",
       "Wednesday       8022.863636           5.719849            714.454545   \n",
       "\n",
       "             avg_Calories  avg_TotalMinutesAsleep  avg_TotalTimeInBed  \n",
       "day_of_week                                                            \n",
       "Friday        2329.649123              405.421053          445.052632  \n",
       "Monday        2465.446809              418.829787          456.170213  \n",
       "Saturday      2527.172414              420.810345          461.275862  \n",
       "Sunday        2276.600000              452.745455          503.509091  \n",
       "Thursday      2315.784615              402.369231          435.800000  \n",
       "Tuesday       2496.200000              404.538462          443.292308  \n",
       "Wednesday     2378.242424              434.681818          470.030303  "
      ]
     },
     "execution_count": 96,
     "metadata": {},
     "output_type": "execute_result"
    }
   ],
   "source": [
    "activity_sleep_combined.groupby('day_of_week')[['TotalSteps', 'TotalDistance', 'SedentaryMinutes', 'Calories', \n",
    "                                      'TotalMinutesAsleep', 'TotalTimeInBed']].mean().add_prefix('avg_')"
   ]
  },
  {
   "cell_type": "markdown",
   "id": "35030bf7",
   "metadata": {},
   "source": [
    "Notice that the days of the week are out of order. Let’s fix that"
   ]
  },
  {
   "cell_type": "code",
   "execution_count": 97,
   "id": "9f91ae5b",
   "metadata": {},
   "outputs": [],
   "source": [
    "from pandas.api.types import CategoricalDtype\n",
    "cats = [\"Sunday\", \"Monday\", \"Tuesday\", \"Wednesday\", \"Thursday\", \"Friday\", \"Saturday\"]\n",
    "cat_type = CategoricalDtype(categories=cats, ordered=True)\n",
    "activity_sleep_combined.day_of_week = activity_sleep_combined.day_of_week.astype(cat_type)"
   ]
  },
  {
   "cell_type": "markdown",
   "id": "21886edc",
   "metadata": {},
   "source": [
    "Now again let’s aggregate based on day_of_week"
   ]
  },
  {
   "cell_type": "code",
   "execution_count": 98,
   "id": "03691a53",
   "metadata": {},
   "outputs": [
    {
     "data": {
      "text/html": [
       "<div>\n",
       "<style scoped>\n",
       "    .dataframe tbody tr th:only-of-type {\n",
       "        vertical-align: middle;\n",
       "    }\n",
       "\n",
       "    .dataframe tbody tr th {\n",
       "        vertical-align: top;\n",
       "    }\n",
       "\n",
       "    .dataframe thead th {\n",
       "        text-align: right;\n",
       "    }\n",
       "</style>\n",
       "<table border=\"1\" class=\"dataframe\">\n",
       "  <thead>\n",
       "    <tr style=\"text-align: right;\">\n",
       "      <th></th>\n",
       "      <th>avg_TotalSteps</th>\n",
       "      <th>avg_TotalDistance</th>\n",
       "      <th>avg_SedentaryMinutes</th>\n",
       "      <th>avg_Calories</th>\n",
       "      <th>avg_TotalMinutesAsleep</th>\n",
       "      <th>avg_TotalTimeInBed</th>\n",
       "    </tr>\n",
       "    <tr>\n",
       "      <th>day_of_week</th>\n",
       "      <th></th>\n",
       "      <th></th>\n",
       "      <th></th>\n",
       "      <th></th>\n",
       "      <th></th>\n",
       "      <th></th>\n",
       "    </tr>\n",
       "  </thead>\n",
       "  <tbody>\n",
       "    <tr>\n",
       "      <th>Sunday</th>\n",
       "      <td>7297.854545</td>\n",
       "      <td>5.184727</td>\n",
       "      <td>687.636364</td>\n",
       "      <td>2276.600000</td>\n",
       "      <td>452.745455</td>\n",
       "      <td>503.509091</td>\n",
       "    </tr>\n",
       "    <tr>\n",
       "      <th>Monday</th>\n",
       "      <td>9339.851064</td>\n",
       "      <td>6.611064</td>\n",
       "      <td>717.851064</td>\n",
       "      <td>2465.446809</td>\n",
       "      <td>418.829787</td>\n",
       "      <td>456.170213</td>\n",
       "    </tr>\n",
       "    <tr>\n",
       "      <th>Tuesday</th>\n",
       "      <td>9182.692308</td>\n",
       "      <td>6.430000</td>\n",
       "      <td>740.046154</td>\n",
       "      <td>2496.200000</td>\n",
       "      <td>404.538462</td>\n",
       "      <td>443.292308</td>\n",
       "    </tr>\n",
       "    <tr>\n",
       "      <th>Wednesday</th>\n",
       "      <td>8022.863636</td>\n",
       "      <td>5.719849</td>\n",
       "      <td>714.454545</td>\n",
       "      <td>2378.242424</td>\n",
       "      <td>434.681818</td>\n",
       "      <td>470.030303</td>\n",
       "    </tr>\n",
       "    <tr>\n",
       "      <th>Thursday</th>\n",
       "      <td>8205.353846</td>\n",
       "      <td>5.798154</td>\n",
       "      <td>701.415385</td>\n",
       "      <td>2315.784615</td>\n",
       "      <td>402.369231</td>\n",
       "      <td>435.800000</td>\n",
       "    </tr>\n",
       "    <tr>\n",
       "      <th>Friday</th>\n",
       "      <td>7901.403509</td>\n",
       "      <td>5.511930</td>\n",
       "      <td>743.087719</td>\n",
       "      <td>2329.649123</td>\n",
       "      <td>405.421053</td>\n",
       "      <td>445.052632</td>\n",
       "    </tr>\n",
       "    <tr>\n",
       "      <th>Saturday</th>\n",
       "      <td>9948.689655</td>\n",
       "      <td>7.095690</td>\n",
       "      <td>678.655172</td>\n",
       "      <td>2527.172414</td>\n",
       "      <td>420.810345</td>\n",
       "      <td>461.275862</td>\n",
       "    </tr>\n",
       "  </tbody>\n",
       "</table>\n",
       "</div>"
      ],
      "text/plain": [
       "             avg_TotalSteps  avg_TotalDistance  avg_SedentaryMinutes  \\\n",
       "day_of_week                                                            \n",
       "Sunday          7297.854545           5.184727            687.636364   \n",
       "Monday          9339.851064           6.611064            717.851064   \n",
       "Tuesday         9182.692308           6.430000            740.046154   \n",
       "Wednesday       8022.863636           5.719849            714.454545   \n",
       "Thursday        8205.353846           5.798154            701.415385   \n",
       "Friday          7901.403509           5.511930            743.087719   \n",
       "Saturday        9948.689655           7.095690            678.655172   \n",
       "\n",
       "             avg_Calories  avg_TotalMinutesAsleep  avg_TotalTimeInBed  \n",
       "day_of_week                                                            \n",
       "Sunday        2276.600000              452.745455          503.509091  \n",
       "Monday        2465.446809              418.829787          456.170213  \n",
       "Tuesday       2496.200000              404.538462          443.292308  \n",
       "Wednesday     2378.242424              434.681818          470.030303  \n",
       "Thursday      2315.784615              402.369231          435.800000  \n",
       "Friday        2329.649123              405.421053          445.052632  \n",
       "Saturday      2527.172414              420.810345          461.275862  "
      ]
     },
     "execution_count": 98,
     "metadata": {},
     "output_type": "execute_result"
    }
   ],
   "source": [
    "activity_sleep_combined.groupby('day_of_week')[['TotalSteps', 'TotalDistance', 'SedentaryMinutes', 'Calories', \n",
    "                                      'TotalMinutesAsleep', 'TotalTimeInBed']].mean().add_prefix('avg_')"
   ]
  },
  {
   "cell_type": "markdown",
   "id": "a8a71627",
   "metadata": {},
   "source": [
    "**STEP 4: ViSUALIZE THE DATA**"
   ]
  },
  {
   "cell_type": "markdown",
   "id": "fc8fdf2b",
   "metadata": {},
   "source": [
    "Let’s Determine how many average steps consumers take on each day"
   ]
  },
  {
   "cell_type": "code",
   "execution_count": 99,
   "id": "e2e1707b",
   "metadata": {},
   "outputs": [
    {
     "data": {
      "image/png": "[encoded data removed]",
      "text/plain": [
       "<Figure size 720x432 with 1 Axes>"
      ]
     },
     "metadata": {
      "needs_background": "light"
     },
     "output_type": "display_data"
    }
   ],
   "source": [
    "plt.figure(figsize=(10,6))\n",
    "w = 0.5\n",
    "x = activity_sleep_combined.groupby('day_of_week')['TotalSteps'].mean().reset_index()['day_of_week']\n",
    "bar1 = np.arange(len(x))\n",
    "Avg_TotalSteps = activity_sleep_combined.groupby('day_of_week')['TotalSteps'].mean()\n",
    "my_colors = 'rgbkymc'\n",
    "plt.bar(bar1,Avg_TotalSteps,w,color=list('rgbkymc'))\n",
    "plt.xlabel('day_of_week')\n",
    "plt.ylabel('Avg_TotalSteps')\n",
    "plt.xticks(bar1, x)\n",
    "plt.title(\"Weekday Vs Total Steps\")\n",
    "#plt.savefig('Plot1.png',format='png')\n",
    "plt.show()"
   ]
  },
  {
   "cell_type": "markdown",
   "id": "b47f6ea5",
   "metadata": {},
   "source": [
    "Let’s determine average distance consumers walk on each weekday"
   ]
  },
  {
   "cell_type": "code",
   "execution_count": 100,
   "id": "d1f4ad1c",
   "metadata": {},
   "outputs": [
    {
     "data": {
      "image/png": "[encoded data removed]",
      "text/plain": [
       "<Figure size 720x432 with 1 Axes>"
      ]
     },
     "metadata": {
      "needs_background": "light"
     },
     "output_type": "display_data"
    }
   ],
   "source": [
    "plt.figure(figsize=(10,6))\n",
    "w = 0.5\n",
    "x = activity_sleep_combined.groupby('day_of_week')['TotalDistance'].mean().reset_index()['day_of_week']\n",
    "bar1 = np.arange(len(x))\n",
    "Avg_TotalDistance = activity_sleep_combined.groupby('day_of_week')['TotalDistance'].mean()\n",
    "my_colors = 'rgbkymc'\n",
    "plt.bar(bar1,Avg_TotalDistance,w,color=list('rgbkymc'))\n",
    "plt.xlabel('day_of_week')\n",
    "plt.ylabel('Avg_TotalDistance')\n",
    "plt.xticks(bar1, x)\n",
    "plt.title(\"Weekday Vs Total Distance\")\n",
    "#plt.savefig('Plot2.png',format='png')\n",
    "plt.show()"
   ]
  },
  {
   "cell_type": "markdown",
   "id": "c3fa8bca",
   "metadata": {},
   "source": [
    "Let’s find out on average how much time consumers are seated or inactive on each weekday"
   ]
  },
  {
   "cell_type": "code",
   "execution_count": 101,
   "id": "76bb3464",
   "metadata": {},
   "outputs": [
    {
     "data": {
      "image/png": "[encoded data removed]",
      "text/plain": [
       "<Figure size 720x432 with 1 Axes>"
      ]
     },
     "metadata": {
      "needs_background": "light"
     },
     "output_type": "display_data"
    }
   ],
   "source": [
    "plt.figure(figsize=(10,6))\n",
    "w = 0.5\n",
    "x = activity_sleep_combined.groupby('day_of_week')['SedentaryMinutes'].mean().reset_index()['day_of_week']\n",
    "bar1 = np.arange(len(x))\n",
    "Avg_SedentaryMinutes = activity_sleep_combined.groupby('day_of_week')['SedentaryMinutes'].mean()\n",
    "my_colors = 'rgbkymc'\n",
    "plt.bar(bar1,Avg_SedentaryMinutes,w,color=list('rgbkymc'))\n",
    "plt.xlabel('day_of_week')\n",
    "plt.ylabel('Avg_SedentaryMinutes')\n",
    "plt.xticks(bar1, x)\n",
    "plt.title(\"Weekday Vs Sedentary Minutes\")\n",
    "#plt.savefig('Plot3.png',format='png')\n",
    "plt.show()"
   ]
  },
  {
   "cell_type": "markdown",
   "id": "49ee5be5",
   "metadata": {},
   "source": [
    "Let’s find out How much calories are burned on each day of week"
   ]
  },
  {
   "cell_type": "code",
   "execution_count": 102,
   "id": "575ce705",
   "metadata": {},
   "outputs": [
    {
     "data": {
      "image/png": "[encoded data removed]",
      "text/plain": [
       "<Figure size 720x432 with 1 Axes>"
      ]
     },
     "metadata": {
      "needs_background": "light"
     },
     "output_type": "display_data"
    }
   ],
   "source": [
    "plt.figure(figsize=(10,6))\n",
    "w = 0.5\n",
    "x = activity_sleep_combined.groupby('day_of_week')['Calories'].mean().reset_index()['day_of_week']\n",
    "bar1 = np.arange(len(x))\n",
    "Avg_Calories = activity_sleep_combined.groupby('day_of_week')['Calories'].mean()\n",
    "my_colors = 'rgbkymc'\n",
    "plt.bar(bar1,Avg_Calories,w,color=list('rgbkymc'))\n",
    "plt.xlabel('day_of_week')\n",
    "plt.ylabel('Avg_Calories')\n",
    "plt.xticks(bar1, x)\n",
    "plt.title(\"Weekday Vs Calories\")\n",
    "#plt.savefig('Plot4.png',format='png')\n",
    "plt.show()"
   ]
  },
  {
   "cell_type": "markdown",
   "id": "7d34cd55",
   "metadata": {},
   "source": [
    "Let’s determine sleeping habbits of consumers"
   ]
  },
  {
   "cell_type": "code",
   "execution_count": 103,
   "id": "42de3d4e",
   "metadata": {},
   "outputs": [
    {
     "data": {
      "image/png": "[encoded data removed]",
      "text/plain": [
       "<Figure size 720x432 with 1 Axes>"
      ]
     },
     "metadata": {
      "needs_background": "light"
     },
     "output_type": "display_data"
    }
   ],
   "source": [
    "plt.figure(figsize=(10,6))\n",
    "w = 0.5\n",
    "x = activity_sleep_combined.groupby('day_of_week')['TotalMinutesAsleep'].mean().reset_index()['day_of_week']\n",
    "bar1 = np.arange(len(x))\n",
    "Avg_TotalMinutesAsleep = activity_sleep_combined.groupby('day_of_week')['TotalMinutesAsleep'].mean()\n",
    "my_colors = 'rgbkymc'\n",
    "plt.bar(bar1,Avg_TotalMinutesAsleep,w,color=list('rgbkymc'))\n",
    "plt.xlabel('day_of_week')\n",
    "plt.ylabel('Total Minutes Asleep')\n",
    "plt.xticks(bar1, x)\n",
    "plt.title(\"Weekday Vs Total Minutes Asleep\")\n",
    "#plt.savefig('Plot5.png',format='png')\n",
    "plt.show()"
   ]
  },
  {
   "cell_type": "code",
   "execution_count": 104,
   "id": "fc11363a",
   "metadata": {},
   "outputs": [
    {
     "data": {
      "image/png": "[encoded data removed]",
      "text/plain": [
       "<Figure size 720x432 with 1 Axes>"
      ]
     },
     "metadata": {
      "needs_background": "light"
     },
     "output_type": "display_data"
    }
   ],
   "source": [
    "plt.figure(figsize=(10,6))\n",
    "w = 0.5\n",
    "x = activity_sleep_combined.groupby('day_of_week')['TotalTimeInBed'].mean().reset_index()['day_of_week']\n",
    "bar1 = np.arange(len(x))\n",
    "Avg_TotalTimeInBed = activity_sleep_combined.groupby('day_of_week')['TotalTimeInBed'].mean()\n",
    "my_colors = 'rgbkymc'\n",
    "plt.bar(bar1,Avg_TotalTimeInBed,w,color=list('rgbkymc'))\n",
    "plt.xlabel('day_of_week')\n",
    "plt.ylabel('TotalTimeInBed')\n",
    "plt.xticks(bar1, x)\n",
    "plt.title(\"Weekday Vs Total Time In Bed\")\n",
    "#plt.savefig('Plot6.png',format='png')\n",
    "plt.show()"
   ]
  },
  {
   "cell_type": "markdown",
   "id": "3bf49d9e",
   "metadata": {},
   "source": [
    "Let’s find out relationship between TotalMinutesAsleep and TotalTimeInBed"
   ]
  },
  {
   "cell_type": "code",
   "execution_count": 111,
   "id": "f2879d65",
   "metadata": {},
   "outputs": [
    {
     "data": {
      "image/png": "[encoded data removed]",
      "text/plain": [
       "<Figure size 720x576 with 1 Axes>"
      ]
     },
     "metadata": {
      "needs_background": "light"
     },
     "output_type": "display_data"
    }
   ],
   "source": [
    "plt.figure(figsize=(10,8))\n",
    "plt.scatter(x=activity_sleep_combined.TotalMinutesAsleep, y=activity_sleep_combined.TotalTimeInBed, c='k')\n",
    "plt.xlabel(\"Total Minutes Asleep\")\n",
    "plt.ylabel(\"Total Time In Bed\")\n",
    "plt.title(\"Total Minutes Asleep Vs Total Time In Bed\")\n",
    "plt.savefig(\"Plot7.png\", format='png')\n",
    "plt.show()"
   ]
  },
  {
   "cell_type": "markdown",
   "id": "f6252198",
   "metadata": {},
   "source": [
    "What’s the relationship between steps taken in a day and sedentary minutes? How could this help inform the customer segments that we can market to? E.g. position this more as a way to get started in walking more? Or to measure steps that you’re already taking?"
   ]
  },
  {
   "cell_type": "code",
   "execution_count": 113,
   "id": "b94dcb57",
   "metadata": {},
   "outputs": [
    {
     "data": {
      "image/png": "[encoded data removed]",
      "text/plain": [
       "<Figure size 720x576 with 1 Axes>"
      ]
     },
     "metadata": {
      "needs_background": "light"
     },
     "output_type": "display_data"
    }
   ],
   "source": [
    "plt.figure(figsize=(10,8))\n",
    "plt.scatter(x=activity_sleep_combined.TotalSteps, y=activity_sleep_combined.SedentaryMinutes, c='k')\n",
    "plt.xlabel(\"Total Steps\")\n",
    "plt.ylabel(\"Sedentary Minutes\")\n",
    "plt.title(\"Total Steps Vs Sedentary Minutes\")\n",
    "plt.savefig(\"Plot8.png\", format='png')\n",
    "plt.show()"
   ]
  },
  {
   "cell_type": "markdown",
   "id": "ae76da97",
   "metadata": {},
   "source": [
    "Let’s find out relationship between sitting or inactiveness and calories"
   ]
  },
  {
   "cell_type": "code",
   "execution_count": 115,
   "id": "543b1714",
   "metadata": {},
   "outputs": [
    {
     "data": {
      "image/png": "[encoded data removed]",
      "text/plain": [
       "<Figure size 720x576 with 1 Axes>"
      ]
     },
     "metadata": {
      "needs_background": "light"
     },
     "output_type": "display_data"
    }
   ],
   "source": [
    "plt.figure(figsize=(10,8))\n",
    "plt.scatter(x=activity_sleep_combined.SedentaryMinutes, y=activity_sleep_combined.Calories, c='k')\n",
    "plt.xlabel(\"Sedentary Minutes\")\n",
    "plt.ylabel(\"Calories\")\n",
    "plt.title(\"Sedentary Minutes Vs Calories\")\n",
    "plt.savefig(\"Plot9.png\", format='png')\n",
    "plt.show()"
   ]
  },
  {
   "cell_type": "code",
   "execution_count": 117,
   "id": "d7915371",
   "metadata": {},
   "outputs": [
    {
     "data": {
      "image/png": "[encoded data removed]",
      "text/plain": [
       "<Figure size 720x576 with 1 Axes>"
      ]
     },
     "metadata": {
      "needs_background": "light"
     },
     "output_type": "display_data"
    }
   ],
   "source": [
    "plt.figure(figsize=(10,8))\n",
    "plt.scatter(x=activity_sleep_combined.TotalSteps, y=activity_sleep_combined.TotalMinutesAsleep, c='k')\n",
    "plt.xlabel(\"Total Steps\")\n",
    "plt.ylabel(\"Total Minutes Asleep\")\n",
    "plt.title(\"Total Steps Vs Sleep\")\n",
    "plt.savefig(\"Plot10.png\", format='png')\n",
    "plt.show()"
   ]
  },
  {
   "cell_type": "markdown",
   "id": "a1ba7cce",
   "metadata": {},
   "source": [
    "**STEP 5: EXPORT SUMMARY FILE FOR FURTHER ANALYSIS**"
   ]
  },
  {
   "cell_type": "code",
   "execution_count": 119,
   "id": "79ca57a8",
   "metadata": {},
   "outputs": [],
   "source": [
    "activity_sleep_summary = activity_sleep_combined.groupby('day_of_week')[['TotalSteps', 'TotalDistance', 'SedentaryMinutes', 'Calories', \n",
    "                                      'TotalMinutesAsleep', 'TotalTimeInBed']].mean().add_prefix('avg_')"
   ]
  },
  {
   "cell_type": "code",
   "execution_count": 120,
   "id": "4216ec2f",
   "metadata": {},
   "outputs": [],
   "source": [
    "activity_sleep_summary.to_csv('activity_sleep_summary.csv')"
   ]
  },
  {
   "cell_type": "markdown",
   "id": "19efc627",
   "metadata": {},
   "source": [
    "**Findings**"
   ]
  },
  {
   "cell_type": "markdown",
   "id": "31ea9627",
   "metadata": {},
   "source": [
    "1. Total steps by consumers are highest on Saturdays and are lowest on Sundays. Total steps gradually reduce from Monday to Friday.\n",
    "2. Total distance by consumers is highest on Saturdays and are lowest on Sundays. Total distance gradually decreases from Monday to Friday.\n",
    "3. Highest calories are burnt on Saturdays and lowest on Sundays. Calories burnt gradually decreases from Monday to Friday.\n",
    "4. Consumers Slept for largest minutes on Sundays and slept relatively less in weekdays.\n",
    "5. Time in beds is largest minutes on Sundays and surprisingly second highest on Wednesday.\n",
    "6. We found a positive correlation between average Total minutes asleep and Total time in bed.\n",
    "7. We found slightly negative correlation between Total steps and Sedentary minutes. It means those who walk larger number of steps are less likely to be inactive or remain seated.\n",
    "8. We also found a slightly negative correlation between Total steps and Total minutes asleep. It means those consumers who walk larger number of steps are sleeping lesser."
   ]
  },
  {
   "cell_type": "markdown",
   "id": "98f7aeb6",
   "metadata": {},
   "source": [
    "**Inference**"
   ]
  },
  {
   "cell_type": "markdown",
   "id": "fa2f0e77",
   "metadata": {},
   "source": [
    "1. Consumer behavior changes in weekdays and in weekend. In weekdays activity and sleeping pattern is almost similar but on weekend the variations are high.\n",
    "2. Walking more means less Sedentary minutes which means Walking for larger number of steps can reduce Sedentary minutes.\n",
    "3. Walking for larger number of steps could reduce your sleep time."
   ]
  },
  {
   "cell_type": "markdown",
   "id": "436dbc55",
   "metadata": {},
   "source": [
    "**Recommendations**"
   ]
  },
  {
   "cell_type": "markdown",
   "id": "04ac1ebd",
   "metadata": {},
   "source": [
    "1. Bellabeat could share these findings with consumers to spread awareness about daily activities and sleeping habits and at the same time to promote how Bellabeat products could benefit the consumers to streamline these habits to make them healthier.\n",
    "2. Bellabeat could promote their membership program to consumers which offers a subscription-based membership program for users. \n",
    "3. Membership gives users 24/7 access to fully personalized guidance on nutrition, activity, sleep, health and beauty, and mindfulness based on their lifestyle and goals. This could create discipline and offer healthier life.\n",
    "4. Bellbeat could use personized adds to promote their products to the targeted group and make them aware that how these products could be used for health benefits."
   ]
  }
 ],
 "metadata": {
  "kernelspec": {
   "display_name": "Python 3 (ipykernel)",
   "language": "python",
   "name": "python3"
  },
  "language_info": {
   "codemirror_mode": {
    "name": "ipython",
    "version": 3
   },
   "file_extension": ".py",
   "mimetype": "text/x-python",
   "name": "python",
   "nbconvert_exporter": "python",
   "pygments_lexer": "ipython3",
   "version": "3.8.8"
  }
 },
 "nbformat": 4,
 "nbformat_minor": 5
}
